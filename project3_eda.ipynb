{
 "cells": [
  {
   "cell_type": "code",
   "execution_count": 44,
   "metadata": {},
   "outputs": [],
   "source": [
    "import pandas as pd\n",
    "import numpy as np\n",
    "import seaborn as sns\n",
    "import matplotlib.pyplot as plt\n",
    "import plotly.graph_objects as go"
   ]
  },
  {
   "cell_type": "code",
   "execution_count": 46,
   "metadata": {},
   "outputs": [],
   "source": [
    "df_female = pd.read_csv('data/Copy of Mouse_Data_Student_Copy.xlsx - Fem Act.csv')\n",
    "df_male = pd.read_csv('data/Copy of Mouse_Data_Student_Copy.xlsx - Male Act.csv')\n",
    "\n",
    "df_female = df_female.set_index('time')\n",
    "df_male = df_male.set_index('time')\n",
    "df_female.index = df_female.index / 60\n",
    "df_male.index = df_male.index / 60\n",
    "\n",
    "df_female = df_female.groupby(df_female.index.astype(int)).mean().reset_index()\n",
    "df_male = df_male.groupby(df_male.index.astype(int)).mean().reset_index()"
   ]
  },
  {
   "cell_type": "code",
   "execution_count": 47,
   "metadata": {},
   "outputs": [],
   "source": [
    "# create day and hour column\n",
    "df_female['day'] = df_female['time'] // 24 + 1\n",
    "df_female['hour'] = df_female['time'] % 24\n",
    "df_male['day'] = df_male['time'] // 24 + 1\n",
    "df_male['hour'] = df_male['time'] % 24"
   ]
  },
  {
   "cell_type": "code",
   "execution_count": 48,
   "metadata": {},
   "outputs": [
    {
     "data": {
      "text/html": [
       "<div>\n",
       "<style scoped>\n",
       "    .dataframe tbody tr th:only-of-type {\n",
       "        vertical-align: middle;\n",
       "    }\n",
       "\n",
       "    .dataframe tbody tr th {\n",
       "        vertical-align: top;\n",
       "    }\n",
       "\n",
       "    .dataframe thead th {\n",
       "        text-align: right;\n",
       "    }\n",
       "</style>\n",
       "<table border=\"1\" class=\"dataframe\">\n",
       "  <thead>\n",
       "    <tr style=\"text-align: right;\">\n",
       "      <th></th>\n",
       "      <th>time</th>\n",
       "      <th>m1</th>\n",
       "      <th>m2</th>\n",
       "      <th>m3</th>\n",
       "      <th>m4</th>\n",
       "      <th>m5</th>\n",
       "      <th>m6</th>\n",
       "      <th>m7</th>\n",
       "      <th>m8</th>\n",
       "      <th>m9</th>\n",
       "      <th>m10</th>\n",
       "      <th>m11</th>\n",
       "      <th>m12</th>\n",
       "      <th>m13</th>\n",
       "      <th>day</th>\n",
       "      <th>hour</th>\n",
       "    </tr>\n",
       "  </thead>\n",
       "  <tbody>\n",
       "    <tr>\n",
       "      <th>0</th>\n",
       "      <td>0</td>\n",
       "      <td>22.474576</td>\n",
       "      <td>17.016949</td>\n",
       "      <td>15.338983</td>\n",
       "      <td>30.542373</td>\n",
       "      <td>59.322034</td>\n",
       "      <td>32.576271</td>\n",
       "      <td>30.830508</td>\n",
       "      <td>35.389831</td>\n",
       "      <td>22.949153</td>\n",
       "      <td>25.237288</td>\n",
       "      <td>36.338983</td>\n",
       "      <td>24.983051</td>\n",
       "      <td>41.101695</td>\n",
       "      <td>1</td>\n",
       "      <td>0</td>\n",
       "    </tr>\n",
       "    <tr>\n",
       "      <th>1</th>\n",
       "      <td>1</td>\n",
       "      <td>43.216667</td>\n",
       "      <td>65.666667</td>\n",
       "      <td>49.183333</td>\n",
       "      <td>76.066667</td>\n",
       "      <td>48.366667</td>\n",
       "      <td>59.500000</td>\n",
       "      <td>65.616667</td>\n",
       "      <td>41.316667</td>\n",
       "      <td>41.683333</td>\n",
       "      <td>56.683333</td>\n",
       "      <td>53.516667</td>\n",
       "      <td>60.450000</td>\n",
       "      <td>56.166667</td>\n",
       "      <td>1</td>\n",
       "      <td>1</td>\n",
       "    </tr>\n",
       "    <tr>\n",
       "      <th>2</th>\n",
       "      <td>2</td>\n",
       "      <td>50.083333</td>\n",
       "      <td>58.183333</td>\n",
       "      <td>36.483333</td>\n",
       "      <td>75.966667</td>\n",
       "      <td>52.250000</td>\n",
       "      <td>61.584306</td>\n",
       "      <td>54.483333</td>\n",
       "      <td>43.400000</td>\n",
       "      <td>39.300000</td>\n",
       "      <td>54.216667</td>\n",
       "      <td>31.183333</td>\n",
       "      <td>64.416667</td>\n",
       "      <td>55.266667</td>\n",
       "      <td>1</td>\n",
       "      <td>2</td>\n",
       "    </tr>\n",
       "    <tr>\n",
       "      <th>3</th>\n",
       "      <td>3</td>\n",
       "      <td>47.916667</td>\n",
       "      <td>57.100000</td>\n",
       "      <td>37.483333</td>\n",
       "      <td>80.750000</td>\n",
       "      <td>69.866667</td>\n",
       "      <td>69.750000</td>\n",
       "      <td>76.533333</td>\n",
       "      <td>45.216667</td>\n",
       "      <td>37.500000</td>\n",
       "      <td>33.983333</td>\n",
       "      <td>38.383333</td>\n",
       "      <td>65.916667</td>\n",
       "      <td>50.816667</td>\n",
       "      <td>1</td>\n",
       "      <td>3</td>\n",
       "    </tr>\n",
       "    <tr>\n",
       "      <th>4</th>\n",
       "      <td>4</td>\n",
       "      <td>41.733333</td>\n",
       "      <td>49.550000</td>\n",
       "      <td>20.900000</td>\n",
       "      <td>83.950000</td>\n",
       "      <td>60.716667</td>\n",
       "      <td>20.016667</td>\n",
       "      <td>69.133333</td>\n",
       "      <td>41.116667</td>\n",
       "      <td>44.550000</td>\n",
       "      <td>32.150000</td>\n",
       "      <td>55.466667</td>\n",
       "      <td>57.650000</td>\n",
       "      <td>48.833333</td>\n",
       "      <td>1</td>\n",
       "      <td>4</td>\n",
       "    </tr>\n",
       "    <tr>\n",
       "      <th>...</th>\n",
       "      <td>...</td>\n",
       "      <td>...</td>\n",
       "      <td>...</td>\n",
       "      <td>...</td>\n",
       "      <td>...</td>\n",
       "      <td>...</td>\n",
       "      <td>...</td>\n",
       "      <td>...</td>\n",
       "      <td>...</td>\n",
       "      <td>...</td>\n",
       "      <td>...</td>\n",
       "      <td>...</td>\n",
       "      <td>...</td>\n",
       "      <td>...</td>\n",
       "      <td>...</td>\n",
       "      <td>...</td>\n",
       "    </tr>\n",
       "    <tr>\n",
       "      <th>332</th>\n",
       "      <td>332</td>\n",
       "      <td>7.116667</td>\n",
       "      <td>0.000000</td>\n",
       "      <td>17.066667</td>\n",
       "      <td>0.000000</td>\n",
       "      <td>7.916667</td>\n",
       "      <td>0.000000</td>\n",
       "      <td>22.916667</td>\n",
       "      <td>0.000000</td>\n",
       "      <td>2.600000</td>\n",
       "      <td>1.900000</td>\n",
       "      <td>28.600000</td>\n",
       "      <td>6.560855</td>\n",
       "      <td>0.000000</td>\n",
       "      <td>14</td>\n",
       "      <td>20</td>\n",
       "    </tr>\n",
       "    <tr>\n",
       "      <th>333</th>\n",
       "      <td>333</td>\n",
       "      <td>13.950000</td>\n",
       "      <td>0.000000</td>\n",
       "      <td>7.433333</td>\n",
       "      <td>0.000000</td>\n",
       "      <td>46.993590</td>\n",
       "      <td>0.000000</td>\n",
       "      <td>0.800000</td>\n",
       "      <td>0.000000</td>\n",
       "      <td>7.283333</td>\n",
       "      <td>8.500000</td>\n",
       "      <td>1.650000</td>\n",
       "      <td>6.916667</td>\n",
       "      <td>0.000000</td>\n",
       "      <td>14</td>\n",
       "      <td>21</td>\n",
       "    </tr>\n",
       "    <tr>\n",
       "      <th>334</th>\n",
       "      <td>334</td>\n",
       "      <td>15.750000</td>\n",
       "      <td>0.000000</td>\n",
       "      <td>23.883333</td>\n",
       "      <td>0.000000</td>\n",
       "      <td>5.616667</td>\n",
       "      <td>0.000000</td>\n",
       "      <td>2.633333</td>\n",
       "      <td>0.000000</td>\n",
       "      <td>6.900000</td>\n",
       "      <td>19.766667</td>\n",
       "      <td>7.166667</td>\n",
       "      <td>17.550000</td>\n",
       "      <td>0.000000</td>\n",
       "      <td>14</td>\n",
       "      <td>22</td>\n",
       "    </tr>\n",
       "    <tr>\n",
       "      <th>335</th>\n",
       "      <td>335</td>\n",
       "      <td>9.333333</td>\n",
       "      <td>0.000000</td>\n",
       "      <td>4.666667</td>\n",
       "      <td>0.000000</td>\n",
       "      <td>54.610257</td>\n",
       "      <td>0.000000</td>\n",
       "      <td>25.383333</td>\n",
       "      <td>0.000000</td>\n",
       "      <td>11.700000</td>\n",
       "      <td>14.566667</td>\n",
       "      <td>19.116667</td>\n",
       "      <td>15.016667</td>\n",
       "      <td>0.000000</td>\n",
       "      <td>14</td>\n",
       "      <td>23</td>\n",
       "    </tr>\n",
       "    <tr>\n",
       "      <th>336</th>\n",
       "      <td>336</td>\n",
       "      <td>51.000000</td>\n",
       "      <td>0.000000</td>\n",
       "      <td>0.000000</td>\n",
       "      <td>0.000000</td>\n",
       "      <td>119.000000</td>\n",
       "      <td>0.000000</td>\n",
       "      <td>0.000000</td>\n",
       "      <td>0.000000</td>\n",
       "      <td>6.000000</td>\n",
       "      <td>8.000000</td>\n",
       "      <td>0.000000</td>\n",
       "      <td>100.000000</td>\n",
       "      <td>0.000000</td>\n",
       "      <td>15</td>\n",
       "      <td>0</td>\n",
       "    </tr>\n",
       "  </tbody>\n",
       "</table>\n",
       "<p>337 rows × 16 columns</p>\n",
       "</div>"
      ],
      "text/plain": [
       "     time         m1         m2         m3         m4          m5         m6  \\\n",
       "0       0  22.474576  17.016949  15.338983  30.542373   59.322034  32.576271   \n",
       "1       1  43.216667  65.666667  49.183333  76.066667   48.366667  59.500000   \n",
       "2       2  50.083333  58.183333  36.483333  75.966667   52.250000  61.584306   \n",
       "3       3  47.916667  57.100000  37.483333  80.750000   69.866667  69.750000   \n",
       "4       4  41.733333  49.550000  20.900000  83.950000   60.716667  20.016667   \n",
       "..    ...        ...        ...        ...        ...         ...        ...   \n",
       "332   332   7.116667   0.000000  17.066667   0.000000    7.916667   0.000000   \n",
       "333   333  13.950000   0.000000   7.433333   0.000000   46.993590   0.000000   \n",
       "334   334  15.750000   0.000000  23.883333   0.000000    5.616667   0.000000   \n",
       "335   335   9.333333   0.000000   4.666667   0.000000   54.610257   0.000000   \n",
       "336   336  51.000000   0.000000   0.000000   0.000000  119.000000   0.000000   \n",
       "\n",
       "            m7         m8         m9        m10        m11         m12  \\\n",
       "0    30.830508  35.389831  22.949153  25.237288  36.338983   24.983051   \n",
       "1    65.616667  41.316667  41.683333  56.683333  53.516667   60.450000   \n",
       "2    54.483333  43.400000  39.300000  54.216667  31.183333   64.416667   \n",
       "3    76.533333  45.216667  37.500000  33.983333  38.383333   65.916667   \n",
       "4    69.133333  41.116667  44.550000  32.150000  55.466667   57.650000   \n",
       "..         ...        ...        ...        ...        ...         ...   \n",
       "332  22.916667   0.000000   2.600000   1.900000  28.600000    6.560855   \n",
       "333   0.800000   0.000000   7.283333   8.500000   1.650000    6.916667   \n",
       "334   2.633333   0.000000   6.900000  19.766667   7.166667   17.550000   \n",
       "335  25.383333   0.000000  11.700000  14.566667  19.116667   15.016667   \n",
       "336   0.000000   0.000000   6.000000   8.000000   0.000000  100.000000   \n",
       "\n",
       "           m13  day  hour  \n",
       "0    41.101695    1     0  \n",
       "1    56.166667    1     1  \n",
       "2    55.266667    1     2  \n",
       "3    50.816667    1     3  \n",
       "4    48.833333    1     4  \n",
       "..         ...  ...   ...  \n",
       "332   0.000000   14    20  \n",
       "333   0.000000   14    21  \n",
       "334   0.000000   14    22  \n",
       "335   0.000000   14    23  \n",
       "336   0.000000   15     0  \n",
       "\n",
       "[337 rows x 16 columns]"
      ]
     },
     "execution_count": 48,
     "metadata": {},
     "output_type": "execute_result"
    }
   ],
   "source": [
    "df_male"
   ]
  },
  {
   "cell_type": "code",
   "execution_count": 49,
   "metadata": {},
   "outputs": [
    {
     "data": {
      "image/png": "[encoded data removed]",
      "text/plain": [
       "<Figure size 1000x800 with 2 Axes>"
      ]
     },
     "metadata": {},
     "output_type": "display_data"
    }
   ],
   "source": [
    "correlation_matrix = df_male.corr()\n",
    "plt.figure(figsize=(10,8))\n",
    "sns.heatmap(correlation_matrix, annot=True, cmap='coolwarm', fmt=\".2f\")\n",
    "plt.title('Correlation Matrix')\n",
    "plt.tight_layout()\n",
    "plt.show()"
   ]
  },
  {
   "cell_type": "code",
   "execution_count": 52,
   "metadata": {},
   "outputs": [],
   "source": [
    "# group by the time of the day and take the mean\n",
    "male_hourly = df_male.groupby(['hour']).mean()\n",
    "female_hourly = df_female.groupby(['hour']).mean()"
   ]
  },
  {
   "cell_type": "code",
   "execution_count": 53,
   "metadata": {},
   "outputs": [
    {
     "data": {
      "application/vnd.plotly.v1+json": {
       "config": {
        "plotlyServerURL": "https://plot.ly"
       },
       "data": [
        {
         "name": "m1",
         "type": "scatter",
         "x": [
          0,
          1,
          2,
          3,
          4,
          5,
          6,
          7,
          8,
          9,
          10,
          11,
          12,
          13,
          14,
          15,
          16,
          17,
          18,
          19,
          20,
          21,
          22,
          23
         ],
         "y": [
          21.401594630523544,
          44.90238095238095,
          49.614285714285714,
          42.70357142857143,
          32.94880952380952,
          34.048809523809524,
          43.732142857142854,
          42.070238095238096,
          35.9,
          34.863095238095234,
          21.042857142857144,
          21.822619047619046,
          7.317857142857143,
          9.727380952380953,
          11.307142857142859,
          6.288095238095238,
          10.579761904761906,
          9.38452380952381,
          9.672619047619047,
          13.935714285714285,
          12.116666666666665,
          12.83452380952381,
          10.004714989523809,
          12.320238095238095
         ]
        },
        {
         "name": "m2",
         "type": "scatter",
         "x": [
          0,
          1,
          2,
          3,
          4,
          5,
          6,
          7,
          8,
          9,
          10,
          11,
          12,
          13,
          14,
          15,
          16,
          17,
          18,
          19,
          20,
          21,
          22,
          23
         ],
         "y": [
          25.298517904502823,
          62.05868848785714,
          62.34987498738095,
          52.63327082702381,
          48.97976190476191,
          43.38886805345238,
          49.269820434404764,
          51.36940277357143,
          38.65553472011904,
          30.895238095238092,
          23.291249005833333,
          20.321428571428573,
          28.16547619047619,
          22.025000000000002,
          16.604761904761904,
          12.022619047619047,
          14.277380952380952,
          17.64761904761905,
          13.928571428571429,
          16.714285714285715,
          12.629761904761905,
          18.90357142857143,
          16.07535515452381,
          9.544402773571429
         ]
        },
        {
         "name": "m3",
         "type": "scatter",
         "x": [
          0,
          1,
          2,
          3,
          4,
          5,
          6,
          7,
          8,
          9,
          10,
          11,
          12,
          13,
          14,
          15,
          16,
          17,
          18,
          19,
          20,
          21,
          22,
          23
         ],
         "y": [
          19.534683007723164,
          47.365476190476194,
          44.207142857142856,
          26.95,
          24.263393431666664,
          35.35982200309524,
          32.953125287261905,
          41.135566337976186,
          40.1764886697619,
          25.094345812619046,
          25.423363382500003,
          15.174999999999999,
          20.59047619047619,
          22.67232315214286,
          24.726044826547618,
          21.74003004916667,
          20.962947290357143,
          13.523809523809524,
          9.31026814440476,
          13.159523809523808,
          13.380952380952381,
          12.453571428571427,
          10.856696715833333,
          12.271428571428572
         ]
        },
        {
         "name": "m4",
         "type": "scatter",
         "x": [
          0,
          1,
          2,
          3,
          4,
          5,
          6,
          7,
          8,
          9,
          10,
          11,
          12,
          13,
          14,
          15,
          16,
          17,
          18,
          19,
          20,
          21,
          22,
          23
         ],
         "y": [
          37.367676111201504,
          70.10200364714287,
          55.4629065854762,
          50.02581317095238,
          60.18552563309523,
          60.94072340357143,
          60.694730697857146,
          42.147430395,
          41.49247983761905,
          25.170238095238094,
          22.350871731428573,
          18.19981134738095,
          7.470238095238095,
          3.5404761904761903,
          10.255952380952381,
          6.433333333333333,
          4.476190476190476,
          8.026001823571429,
          9.132142857142858,
          12.263095238095238,
          7.721428571428571,
          13.333144680714286,
          18.033144680714287,
          16.52857142857143
         ]
        },
        {
         "name": "m5",
         "type": "scatter",
         "x": [
          0,
          1,
          2,
          3,
          4,
          5,
          6,
          7,
          8,
          9,
          10,
          11,
          12,
          13,
          14,
          15,
          16,
          17,
          18,
          19,
          20,
          21,
          22,
          23
         ],
         "y": [
          55.97924670433145,
          52.18452380952381,
          49.39404761904762,
          52.85476190476191,
          54.75549454988095,
          43.53809523809524,
          19.876190476190477,
          22.911446930833336,
          17.877380952380953,
          8.473809523809525,
          14.395970740357143,
          11.248809523809525,
          35.23864486619048,
          13.724084337857144,
          29.99670338547619,
          17.064285714285713,
          24.21547619047619,
          20.947619047619046,
          14.081685026071428,
          22.96263740702381,
          17.151190476190475,
          19.06291222107143,
          24.899816982976187,
          33.69954216892857
         ]
        },
        {
         "name": "m6",
         "type": "scatter",
         "x": [
          0,
          1,
          2,
          3,
          4,
          5,
          6,
          7,
          8,
          9,
          10,
          11,
          12,
          13,
          14,
          15,
          16,
          17,
          18,
          19,
          20,
          21,
          22,
          23
         ],
         "y": [
          30.217306967984936,
          63.14173613380952,
          64.3726885147619,
          45.22030756238096,
          26.95952380952381,
          30.802380952380954,
          39.114285714285714,
          46.62268851476191,
          52.17513893428571,
          54.30357142857143,
          38.91190476190476,
          24.688095238095237,
          11.835714285714285,
          3.020238095238095,
          6.846428571428571,
          3.547619047619048,
          4.235714285714286,
          9.670238095238094,
          9.371428571428572,
          8.32857142857143,
          8.065476190476192,
          9.478571428571428,
          8.153571428571428,
          14.457142857142857
         ]
        },
        {
         "name": "m7",
         "type": "scatter",
         "x": [
          0,
          1,
          2,
          3,
          4,
          5,
          6,
          7,
          8,
          9,
          10,
          11,
          12,
          13,
          14,
          15,
          16,
          17,
          18,
          19,
          20,
          21,
          22,
          23
         ],
         "y": [
          23.98947478097175,
          58.101190476190474,
          50.7076114152381,
          48.995706653333336,
          45.789032354285716,
          51.523195204761905,
          51.702127592380954,
          50.84498473523809,
          45.42045329333333,
          34.03178189809524,
          29.795706653333333,
          23.575937116190477,
          13.550576157142856,
          12.372619047619049,
          12.921897129523808,
          9.321067612380952,
          6.696428571428571,
          11.169877136190477,
          6.9377342790476195,
          7.266666666666667,
          13.472619047619048,
          8.136904761904763,
          14.589285714285714,
          16.913095238095238
         ]
        },
        {
         "name": "m8",
         "type": "scatter",
         "x": [
          0,
          1,
          2,
          3,
          4,
          5,
          6,
          7,
          8,
          9,
          10,
          11,
          12,
          13,
          14,
          15,
          16,
          17,
          18,
          19,
          20,
          21,
          22,
          23
         ],
         "y": [
          22.403018098231637,
          38.86467435464285,
          30.66309523809524,
          29.140476190476193,
          29.03690476190476,
          39.66309523809524,
          44.32261904761905,
          47.39443625940476,
          30.21190476190476,
          24.564285714285713,
          12.742857142857144,
          18.17458680452381,
          16.275777280714287,
          5.553571428571429,
          11.498809523809525,
          6.789285714285714,
          7.3908648308333325,
          9.344047619047618,
          9.038095238095236,
          14.464285714285714,
          14.78411061404762,
          13.088095238095237,
          18.4325314975,
          14.314285714285715
         ]
        },
        {
         "name": "m9",
         "type": "scatter",
         "x": [
          0,
          1,
          2,
          3,
          4,
          5,
          6,
          7,
          8,
          9,
          10,
          11,
          12,
          13,
          14,
          15,
          16,
          17,
          18,
          19,
          20,
          21,
          22,
          23
         ],
         "y": [
          24.301924893491524,
          41.71785714285714,
          36.40939479261905,
          34.801864884761905,
          35.34047619047619,
          36.462708187380954,
          35.570912503809524,
          33.76734107523809,
          25.941537649761905,
          22.934811167380953,
          17.241666666666667,
          10.103571428571428,
          4.266666666666667,
          4.770238095238095,
          10.078571428571427,
          2.642857142857143,
          6.194047619047619,
          6.335585268809524,
          9.41402768047619,
          9.70582336404762,
          10.473680506904762,
          8.183333333333334,
          11.798809523809524,
          17.575932442380953
         ]
        },
        {
         "name": "m10",
         "type": "scatter",
         "x": [
          0,
          1,
          2,
          3,
          4,
          5,
          6,
          7,
          8,
          9,
          10,
          11,
          12,
          13,
          14,
          15,
          16,
          17,
          18,
          19,
          20,
          21,
          22,
          23
         ],
         "y": [
          28.128148980928437,
          55.845238095238095,
          53.61785714285714,
          47.32619047619047,
          47.71071428571429,
          55.08095238095238,
          54.17511523178571,
          54.343087606428575,
          45.564516177857136,
          31.271543803214286,
          38.358679028690474,
          30.267857142857142,
          9.177496184166667,
          5.691666666666667,
          9.158563796904762,
          4.660714285714286,
          6.092972374642857,
          8.810944749285714,
          4.292857142857143,
          14.145238095238096,
          4.859523809523809,
          13.277726647738096,
          11.77987713654762,
          14.58225808892857
         ]
        },
        {
         "name": "m11",
         "type": "scatter",
         "x": [
          0,
          1,
          2,
          3,
          4,
          5,
          6,
          7,
          8,
          9,
          10,
          11,
          12,
          13,
          14,
          15,
          16,
          17,
          18,
          19,
          20,
          21,
          22,
          23
         ],
         "y": [
          25.528154425612055,
          45.90714285714286,
          41.09047619047619,
          39,
          34.266666666666666,
          38.97647584119047,
          44.47438025380952,
          41.852331936190474,
          43.523475142619056,
          36.76561887297619,
          30.670523460238094,
          22.614856444285714,
          9.423952206309524,
          12.012332809404763,
          17.175,
          11.439428396785715,
          13.936904761904762,
          13.38480917452381,
          8.820238095238095,
          17.07157125392857,
          14.51547619047619,
          10.125,
          16.20595238095238,
          16.421571253928573
         ]
        },
        {
         "name": "m12",
         "type": "scatter",
         "x": [
          0,
          1,
          2,
          3,
          4,
          5,
          6,
          7,
          8,
          9,
          10,
          11,
          12,
          13,
          14,
          15,
          16,
          17,
          18,
          19,
          20,
          21,
          22,
          23
         ],
         "y": [
          26.34220338983051,
          57.63928571428572,
          55.135714285714286,
          46.547619047619044,
          41.096428571428575,
          40.523809523809526,
          38.922619047619044,
          29.094822994404762,
          31.72577537535714,
          23.28529918488095,
          20.23887061345238,
          22.40595238095238,
          7.675,
          2.742857142857143,
          6.127741226904762,
          5.039285714285714,
          7.804761904761905,
          11.803571428571429,
          11.083693607857143,
          11.501190476190475,
          13.732503131666666,
          9.620238095238095,
          12.92261904761905,
          15.783333333333333
         ]
        },
        {
         "name": "m13",
         "type": "scatter",
         "x": [
          0,
          1,
          2,
          3,
          4,
          5,
          6,
          7,
          8,
          9,
          10,
          11,
          12,
          13,
          14,
          15,
          16,
          17,
          18,
          19,
          20,
          21,
          22,
          23
         ],
         "y": [
          28.441224105461394,
          47.21071428571429,
          38.87261904761905,
          42.40238095238095,
          41.49319487988095,
          35.25509964178571,
          25.91224249892857,
          27.620238095238097,
          14.73452380952381,
          19.51309523809524,
          11.578571428571427,
          11.783333333333333,
          6.014285714285714,
          17.857142857142858,
          24.934523809523807,
          19.61190476190476,
          19.75952380952381,
          18.03690476190476,
          21.60271868940476,
          20.942004403690476,
          26.579761904761906,
          25.38095238095238,
          30.803571428571427,
          24.636904761904763
         ]
        }
       ],
       "layout": {
        "legend": {
         "title": {
          "text": "Mouse ID"
         },
         "x": 1,
         "xanchor": "left",
         "y": 1,
         "yanchor": "top"
        },
        "template": {
         "data": {
          "bar": [
           {
            "error_x": {
             "color": "#2a3f5f"
            },
            "error_y": {
             "color": "#2a3f5f"
            },
            "marker": {
             "line": {
              "color": "#E5ECF6",
              "width": 0.5
             },
             "pattern": {
              "fillmode": "overlay",
              "size": 10,
              "solidity": 0.2
             }
            },
            "type": "bar"
           }
          ],
          "barpolar": [
           {
            "marker": {
             "line": {
              "color": "#E5ECF6",
              "width": 0.5
             },
             "pattern": {
              "fillmode": "overlay",
              "size": 10,
              "solidity": 0.2
             }
            },
            "type": "barpolar"
           }
          ],
          "carpet": [
           {
            "aaxis": {
             "endlinecolor": "#2a3f5f",
             "gridcolor": "white",
             "linecolor": "white",
             "minorgridcolor": "white",
             "startlinecolor": "#2a3f5f"
            },
            "baxis": {
             "endlinecolor": "#2a3f5f",
             "gridcolor": "white",
             "linecolor": "white",
             "minorgridcolor": "white",
             "startlinecolor": "#2a3f5f"
            },
            "type": "carpet"
           }
          ],
          "choropleth": [
           {
            "colorbar": {
             "outlinewidth": 0,
             "ticks": ""
            },
            "type": "choropleth"
           }
          ],
          "contour": [
           {
            "colorbar": {
             "outlinewidth": 0,
             "ticks": ""
            },
            "colorscale": [
             [
              0,
              "#0d0887"
             ],
             [
              0.1111111111111111,
              "#46039f"
             ],
             [
              0.2222222222222222,
              "#7201a8"
             ],
             [
              0.3333333333333333,
              "#9c179e"
             ],
             [
              0.4444444444444444,
              "#bd3786"
             ],
             [
              0.5555555555555556,
              "#d8576b"
             ],
             [
              0.6666666666666666,
              "#ed7953"
             ],
             [
              0.7777777777777778,
              "#fb9f3a"
             ],
             [
              0.8888888888888888,
              "#fdca26"
             ],
             [
              1,
              "#f0f921"
             ]
            ],
            "type": "contour"
           }
          ],
          "contourcarpet": [
           {
            "colorbar": {
             "outlinewidth": 0,
             "ticks": ""
            },
            "type": "contourcarpet"
           }
          ],
          "heatmap": [
           {
            "colorbar": {
             "outlinewidth": 0,
             "ticks": ""
            },
            "colorscale": [
             [
              0,
              "#0d0887"
             ],
             [
              0.1111111111111111,
              "#46039f"
             ],
             [
              0.2222222222222222,
              "#7201a8"
             ],
             [
              0.3333333333333333,
              "#9c179e"
             ],
             [
              0.4444444444444444,
              "#bd3786"
             ],
             [
              0.5555555555555556,
              "#d8576b"
             ],
             [
              0.6666666666666666,
              "#ed7953"
             ],
             [
              0.7777777777777778,
              "#fb9f3a"
             ],
             [
              0.8888888888888888,
              "#fdca26"
             ],
             [
              1,
              "#f0f921"
             ]
            ],
            "type": "heatmap"
           }
          ],
          "heatmapgl": [
           {
            "colorbar": {
             "outlinewidth": 0,
             "ticks": ""
            },
            "colorscale": [
             [
              0,
              "#0d0887"
             ],
             [
              0.1111111111111111,
              "#46039f"
             ],
             [
              0.2222222222222222,
              "#7201a8"
             ],
             [
              0.3333333333333333,
              "#9c179e"
             ],
             [
              0.4444444444444444,
              "#bd3786"
             ],
             [
              0.5555555555555556,
              "#d8576b"
             ],
             [
              0.6666666666666666,
              "#ed7953"
             ],
             [
              0.7777777777777778,
              "#fb9f3a"
             ],
             [
              0.8888888888888888,
              "#fdca26"
             ],
             [
              1,
              "#f0f921"
             ]
            ],
            "type": "heatmapgl"
           }
          ],
          "histogram": [
           {
            "marker": {
             "pattern": {
              "fillmode": "overlay",
              "size": 10,
              "solidity": 0.2
             }
            },
            "type": "histogram"
           }
          ],
          "histogram2d": [
           {
            "colorbar": {
             "outlinewidth": 0,
             "ticks": ""
            },
            "colorscale": [
             [
              0,
              "#0d0887"
             ],
             [
              0.1111111111111111,
              "#46039f"
             ],
             [
              0.2222222222222222,
              "#7201a8"
             ],
             [
              0.3333333333333333,
              "#9c179e"
             ],
             [
              0.4444444444444444,
              "#bd3786"
             ],
             [
              0.5555555555555556,
              "#d8576b"
             ],
             [
              0.6666666666666666,
              "#ed7953"
             ],
             [
              0.7777777777777778,
              "#fb9f3a"
             ],
             [
              0.8888888888888888,
              "#fdca26"
             ],
             [
              1,
              "#f0f921"
             ]
            ],
            "type": "histogram2d"
           }
          ],
          "histogram2dcontour": [
           {
            "colorbar": {
             "outlinewidth": 0,
             "ticks": ""
            },
            "colorscale": [
             [
              0,
              "#0d0887"
             ],
             [
              0.1111111111111111,
              "#46039f"
             ],
             [
              0.2222222222222222,
              "#7201a8"
             ],
             [
              0.3333333333333333,
              "#9c179e"
             ],
             [
              0.4444444444444444,
              "#bd3786"
             ],
             [
              0.5555555555555556,
              "#d8576b"
             ],
             [
              0.6666666666666666,
              "#ed7953"
             ],
             [
              0.7777777777777778,
              "#fb9f3a"
             ],
             [
              0.8888888888888888,
              "#fdca26"
             ],
             [
              1,
              "#f0f921"
             ]
            ],
            "type": "histogram2dcontour"
           }
          ],
          "mesh3d": [
           {
            "colorbar": {
             "outlinewidth": 0,
             "ticks": ""
            },
            "type": "mesh3d"
           }
          ],
          "parcoords": [
           {
            "line": {
             "colorbar": {
              "outlinewidth": 0,
              "ticks": ""
             }
            },
            "type": "parcoords"
           }
          ],
          "pie": [
           {
            "automargin": true,
            "type": "pie"
           }
          ],
          "scatter": [
           {
            "fillpattern": {
             "fillmode": "overlay",
             "size": 10,
             "solidity": 0.2
            },
            "type": "scatter"
           }
          ],
          "scatter3d": [
           {
            "line": {
             "colorbar": {
              "outlinewidth": 0,
              "ticks": ""
             }
            },
            "marker": {
             "colorbar": {
              "outlinewidth": 0,
              "ticks": ""
             }
            },
            "type": "scatter3d"
           }
          ],
          "scattercarpet": [
           {
            "marker": {
             "colorbar": {
              "outlinewidth": 0,
              "ticks": ""
             }
            },
            "type": "scattercarpet"
           }
          ],
          "scattergeo": [
           {
            "marker": {
             "colorbar": {
              "outlinewidth": 0,
              "ticks": ""
             }
            },
            "type": "scattergeo"
           }
          ],
          "scattergl": [
           {
            "marker": {
             "colorbar": {
              "outlinewidth": 0,
              "ticks": ""
             }
            },
            "type": "scattergl"
           }
          ],
          "scattermapbox": [
           {
            "marker": {
             "colorbar": {
              "outlinewidth": 0,
              "ticks": ""
             }
            },
            "type": "scattermapbox"
           }
          ],
          "scatterpolar": [
           {
            "marker": {
             "colorbar": {
              "outlinewidth": 0,
              "ticks": ""
             }
            },
            "type": "scatterpolar"
           }
          ],
          "scatterpolargl": [
           {
            "marker": {
             "colorbar": {
              "outlinewidth": 0,
              "ticks": ""
             }
            },
            "type": "scatterpolargl"
           }
          ],
          "scatterternary": [
           {
            "marker": {
             "colorbar": {
              "outlinewidth": 0,
              "ticks": ""
             }
            },
            "type": "scatterternary"
           }
          ],
          "surface": [
           {
            "colorbar": {
             "outlinewidth": 0,
             "ticks": ""
            },
            "colorscale": [
             [
              0,
              "#0d0887"
             ],
             [
              0.1111111111111111,
              "#46039f"
             ],
             [
              0.2222222222222222,
              "#7201a8"
             ],
             [
              0.3333333333333333,
              "#9c179e"
             ],
             [
              0.4444444444444444,
              "#bd3786"
             ],
             [
              0.5555555555555556,
              "#d8576b"
             ],
             [
              0.6666666666666666,
              "#ed7953"
             ],
             [
              0.7777777777777778,
              "#fb9f3a"
             ],
             [
              0.8888888888888888,
              "#fdca26"
             ],
             [
              1,
              "#f0f921"
             ]
            ],
            "type": "surface"
           }
          ],
          "table": [
           {
            "cells": {
             "fill": {
              "color": "#EBF0F8"
             },
             "line": {
              "color": "white"
             }
            },
            "header": {
             "fill": {
              "color": "#C8D4E3"
             },
             "line": {
              "color": "white"
             }
            },
            "type": "table"
           }
          ]
         },
         "layout": {
          "annotationdefaults": {
           "arrowcolor": "#2a3f5f",
           "arrowhead": 0,
           "arrowwidth": 1
          },
          "autotypenumbers": "strict",
          "coloraxis": {
           "colorbar": {
            "outlinewidth": 0,
            "ticks": ""
           }
          },
          "colorscale": {
           "diverging": [
            [
             0,
             "#8e0152"
            ],
            [
             0.1,
             "#c51b7d"
            ],
            [
             0.2,
             "#de77ae"
            ],
            [
             0.3,
             "#f1b6da"
            ],
            [
             0.4,
             "#fde0ef"
            ],
            [
             0.5,
             "#f7f7f7"
            ],
            [
             0.6,
             "#e6f5d0"
            ],
            [
             0.7,
             "#b8e186"
            ],
            [
             0.8,
             "#7fbc41"
            ],
            [
             0.9,
             "#4d9221"
            ],
            [
             1,
             "#276419"
            ]
           ],
           "sequential": [
            [
             0,
             "#0d0887"
            ],
            [
             0.1111111111111111,
             "#46039f"
            ],
            [
             0.2222222222222222,
             "#7201a8"
            ],
            [
             0.3333333333333333,
             "#9c179e"
            ],
            [
             0.4444444444444444,
             "#bd3786"
            ],
            [
             0.5555555555555556,
             "#d8576b"
            ],
            [
             0.6666666666666666,
             "#ed7953"
            ],
            [
             0.7777777777777778,
             "#fb9f3a"
            ],
            [
             0.8888888888888888,
             "#fdca26"
            ],
            [
             1,
             "#f0f921"
            ]
           ],
           "sequentialminus": [
            [
             0,
             "#0d0887"
            ],
            [
             0.1111111111111111,
             "#46039f"
            ],
            [
             0.2222222222222222,
             "#7201a8"
            ],
            [
             0.3333333333333333,
             "#9c179e"
            ],
            [
             0.4444444444444444,
             "#bd3786"
            ],
            [
             0.5555555555555556,
             "#d8576b"
            ],
            [
             0.6666666666666666,
             "#ed7953"
            ],
            [
             0.7777777777777778,
             "#fb9f3a"
            ],
            [
             0.8888888888888888,
             "#fdca26"
            ],
            [
             1,
             "#f0f921"
            ]
           ]
          },
          "colorway": [
           "#636efa",
           "#EF553B",
           "#00cc96",
           "#ab63fa",
           "#FFA15A",
           "#19d3f3",
           "#FF6692",
           "#B6E880",
           "#FF97FF",
           "#FECB52"
          ],
          "font": {
           "color": "#2a3f5f"
          },
          "geo": {
           "bgcolor": "white",
           "lakecolor": "white",
           "landcolor": "#E5ECF6",
           "showlakes": true,
           "showland": true,
           "subunitcolor": "white"
          },
          "hoverlabel": {
           "align": "left"
          },
          "hovermode": "closest",
          "mapbox": {
           "style": "light"
          },
          "paper_bgcolor": "white",
          "plot_bgcolor": "#E5ECF6",
          "polar": {
           "angularaxis": {
            "gridcolor": "white",
            "linecolor": "white",
            "ticks": ""
           },
           "bgcolor": "#E5ECF6",
           "radialaxis": {
            "gridcolor": "white",
            "linecolor": "white",
            "ticks": ""
           }
          },
          "scene": {
           "xaxis": {
            "backgroundcolor": "#E5ECF6",
            "gridcolor": "white",
            "gridwidth": 2,
            "linecolor": "white",
            "showbackground": true,
            "ticks": "",
            "zerolinecolor": "white"
           },
           "yaxis": {
            "backgroundcolor": "#E5ECF6",
            "gridcolor": "white",
            "gridwidth": 2,
            "linecolor": "white",
            "showbackground": true,
            "ticks": "",
            "zerolinecolor": "white"
           },
           "zaxis": {
            "backgroundcolor": "#E5ECF6",
            "gridcolor": "white",
            "gridwidth": 2,
            "linecolor": "white",
            "showbackground": true,
            "ticks": "",
            "zerolinecolor": "white"
           }
          },
          "shapedefaults": {
           "line": {
            "color": "#2a3f5f"
           }
          },
          "ternary": {
           "aaxis": {
            "gridcolor": "white",
            "linecolor": "white",
            "ticks": ""
           },
           "baxis": {
            "gridcolor": "white",
            "linecolor": "white",
            "ticks": ""
           },
           "bgcolor": "#E5ECF6",
           "caxis": {
            "gridcolor": "white",
            "linecolor": "white",
            "ticks": ""
           }
          },
          "title": {
           "x": 0.05
          },
          "xaxis": {
           "automargin": true,
           "gridcolor": "white",
           "linecolor": "white",
           "ticks": "",
           "title": {
            "standoff": 15
           },
           "zerolinecolor": "white",
           "zerolinewidth": 2
          },
          "yaxis": {
           "automargin": true,
           "gridcolor": "white",
           "linecolor": "white",
           "ticks": "",
           "title": {
            "standoff": 15
           },
           "zerolinecolor": "white",
           "zerolinewidth": 2
          }
         }
        },
        "title": {
         "text": "Male Mouse Activity by Hour"
        },
        "xaxis": {
         "title": {
          "text": "Hour"
         }
        },
        "yaxis": {
         "title": {
          "text": "Activity"
         }
        }
       }
      },
      "text/html": [
       "<div>                            <div id=\"de23364a-74b4-47db-a6fe-584605fb101d\" class=\"plotly-graph-div\" style=\"height:525px; width:100%;\"></div>            <script type=\"text/javascript\">                require([\"plotly\"], function(Plotly) {                    window.PLOTLYENV=window.PLOTLYENV || {};                                    if (document.getElementById(\"de23364a-74b4-47db-a6fe-584605fb101d\")) {                    Plotly.newPlot(                        \"de23364a-74b4-47db-a6fe-584605fb101d\",                        [{\"name\":\"m1\",\"x\":[0,1,2,3,4,5,6,7,8,9,10,11,12,13,14,15,16,17,18,19,20,21,22,23],\"y\":[21.401594630523544,44.90238095238095,49.614285714285714,42.70357142857143,32.94880952380952,34.048809523809524,43.732142857142854,42.070238095238096,35.9,34.863095238095234,21.042857142857144,21.822619047619046,7.317857142857143,9.727380952380953,11.307142857142859,6.288095238095238,10.579761904761906,9.38452380952381,9.672619047619047,13.935714285714285,12.116666666666665,12.83452380952381,10.004714989523809,12.320238095238095],\"type\":\"scatter\"},{\"name\":\"m2\",\"x\":[0,1,2,3,4,5,6,7,8,9,10,11,12,13,14,15,16,17,18,19,20,21,22,23],\"y\":[25.298517904502823,62.05868848785714,62.34987498738095,52.63327082702381,48.97976190476191,43.38886805345238,49.269820434404764,51.36940277357143,38.65553472011904,30.895238095238092,23.291249005833333,20.321428571428573,28.16547619047619,22.025000000000002,16.604761904761904,12.022619047619047,14.277380952380952,17.64761904761905,13.928571428571429,16.714285714285715,12.629761904761905,18.90357142857143,16.07535515452381,9.544402773571429],\"type\":\"scatter\"},{\"name\":\"m3\",\"x\":[0,1,2,3,4,5,6,7,8,9,10,11,12,13,14,15,16,17,18,19,20,21,22,23],\"y\":[19.534683007723164,47.365476190476194,44.207142857142856,26.95,24.263393431666664,35.35982200309524,32.953125287261905,41.135566337976186,40.1764886697619,25.094345812619046,25.423363382500003,15.174999999999999,20.59047619047619,22.67232315214286,24.726044826547618,21.74003004916667,20.962947290357143,13.523809523809524,9.31026814440476,13.159523809523808,13.380952380952381,12.453571428571427,10.856696715833333,12.271428571428572],\"type\":\"scatter\"},{\"name\":\"m4\",\"x\":[0,1,2,3,4,5,6,7,8,9,10,11,12,13,14,15,16,17,18,19,20,21,22,23],\"y\":[37.367676111201504,70.10200364714287,55.4629065854762,50.02581317095238,60.18552563309523,60.94072340357143,60.694730697857146,42.147430395,41.49247983761905,25.170238095238094,22.350871731428573,18.19981134738095,7.470238095238095,3.5404761904761903,10.255952380952381,6.433333333333333,4.476190476190476,8.026001823571429,9.132142857142858,12.263095238095238,7.721428571428571,13.333144680714286,18.033144680714287,16.52857142857143],\"type\":\"scatter\"},{\"name\":\"m5\",\"x\":[0,1,2,3,4,5,6,7,8,9,10,11,12,13,14,15,16,17,18,19,20,21,22,23],\"y\":[55.97924670433145,52.18452380952381,49.39404761904762,52.85476190476191,54.75549454988095,43.53809523809524,19.876190476190477,22.911446930833336,17.877380952380953,8.473809523809525,14.395970740357143,11.248809523809525,35.23864486619048,13.724084337857144,29.99670338547619,17.064285714285713,24.21547619047619,20.947619047619046,14.081685026071428,22.96263740702381,17.151190476190475,19.06291222107143,24.899816982976187,33.69954216892857],\"type\":\"scatter\"},{\"name\":\"m6\",\"x\":[0,1,2,3,4,5,6,7,8,9,10,11,12,13,14,15,16,17,18,19,20,21,22,23],\"y\":[30.217306967984936,63.14173613380952,64.3726885147619,45.22030756238096,26.95952380952381,30.802380952380954,39.114285714285714,46.62268851476191,52.17513893428571,54.30357142857143,38.91190476190476,24.688095238095237,11.835714285714285,3.020238095238095,6.846428571428571,3.547619047619048,4.235714285714286,9.670238095238094,9.371428571428572,8.32857142857143,8.065476190476192,9.478571428571428,8.153571428571428,14.457142857142857],\"type\":\"scatter\"},{\"name\":\"m7\",\"x\":[0,1,2,3,4,5,6,7,8,9,10,11,12,13,14,15,16,17,18,19,20,21,22,23],\"y\":[23.98947478097175,58.101190476190474,50.7076114152381,48.995706653333336,45.789032354285716,51.523195204761905,51.702127592380954,50.84498473523809,45.42045329333333,34.03178189809524,29.795706653333333,23.575937116190477,13.550576157142856,12.372619047619049,12.921897129523808,9.321067612380952,6.696428571428571,11.169877136190477,6.9377342790476195,7.266666666666667,13.472619047619048,8.136904761904763,14.589285714285714,16.913095238095238],\"type\":\"scatter\"},{\"name\":\"m8\",\"x\":[0,1,2,3,4,5,6,7,8,9,10,11,12,13,14,15,16,17,18,19,20,21,22,23],\"y\":[22.403018098231637,38.86467435464285,30.66309523809524,29.140476190476193,29.03690476190476,39.66309523809524,44.32261904761905,47.39443625940476,30.21190476190476,24.564285714285713,12.742857142857144,18.17458680452381,16.275777280714287,5.553571428571429,11.498809523809525,6.789285714285714,7.3908648308333325,9.344047619047618,9.038095238095236,14.464285714285714,14.78411061404762,13.088095238095237,18.4325314975,14.314285714285715],\"type\":\"scatter\"},{\"name\":\"m9\",\"x\":[0,1,2,3,4,5,6,7,8,9,10,11,12,13,14,15,16,17,18,19,20,21,22,23],\"y\":[24.301924893491524,41.71785714285714,36.40939479261905,34.801864884761905,35.34047619047619,36.462708187380954,35.570912503809524,33.76734107523809,25.941537649761905,22.934811167380953,17.241666666666667,10.103571428571428,4.266666666666667,4.770238095238095,10.078571428571427,2.642857142857143,6.194047619047619,6.335585268809524,9.41402768047619,9.70582336404762,10.473680506904762,8.183333333333334,11.798809523809524,17.575932442380953],\"type\":\"scatter\"},{\"name\":\"m10\",\"x\":[0,1,2,3,4,5,6,7,8,9,10,11,12,13,14,15,16,17,18,19,20,21,22,23],\"y\":[28.128148980928437,55.845238095238095,53.61785714285714,47.32619047619047,47.71071428571429,55.08095238095238,54.17511523178571,54.343087606428575,45.564516177857136,31.271543803214286,38.358679028690474,30.267857142857142,9.177496184166667,5.691666666666667,9.158563796904762,4.660714285714286,6.092972374642857,8.810944749285714,4.292857142857143,14.145238095238096,4.859523809523809,13.277726647738096,11.77987713654762,14.58225808892857],\"type\":\"scatter\"},{\"name\":\"m11\",\"x\":[0,1,2,3,4,5,6,7,8,9,10,11,12,13,14,15,16,17,18,19,20,21,22,23],\"y\":[25.528154425612055,45.90714285714286,41.09047619047619,39.0,34.266666666666666,38.97647584119047,44.47438025380952,41.852331936190474,43.523475142619056,36.76561887297619,30.670523460238094,22.614856444285714,9.423952206309524,12.012332809404763,17.175,11.439428396785715,13.936904761904762,13.38480917452381,8.820238095238095,17.07157125392857,14.51547619047619,10.125,16.20595238095238,16.421571253928573],\"type\":\"scatter\"},{\"name\":\"m12\",\"x\":[0,1,2,3,4,5,6,7,8,9,10,11,12,13,14,15,16,17,18,19,20,21,22,23],\"y\":[26.34220338983051,57.63928571428572,55.135714285714286,46.547619047619044,41.096428571428575,40.523809523809526,38.922619047619044,29.094822994404762,31.72577537535714,23.28529918488095,20.23887061345238,22.40595238095238,7.675,2.742857142857143,6.127741226904762,5.039285714285714,7.804761904761905,11.803571428571429,11.083693607857143,11.501190476190475,13.732503131666666,9.620238095238095,12.92261904761905,15.783333333333333],\"type\":\"scatter\"},{\"name\":\"m13\",\"x\":[0,1,2,3,4,5,6,7,8,9,10,11,12,13,14,15,16,17,18,19,20,21,22,23],\"y\":[28.441224105461394,47.21071428571429,38.87261904761905,42.40238095238095,41.49319487988095,35.25509964178571,25.91224249892857,27.620238095238097,14.73452380952381,19.51309523809524,11.578571428571427,11.783333333333333,6.014285714285714,17.857142857142858,24.934523809523807,19.61190476190476,19.75952380952381,18.03690476190476,21.60271868940476,20.942004403690476,26.579761904761906,25.38095238095238,30.803571428571427,24.636904761904763],\"type\":\"scatter\"}],                        {\"template\":{\"data\":{\"histogram2dcontour\":[{\"type\":\"histogram2dcontour\",\"colorbar\":{\"outlinewidth\":0,\"ticks\":\"\"},\"colorscale\":[[0.0,\"#0d0887\"],[0.1111111111111111,\"#46039f\"],[0.2222222222222222,\"#7201a8\"],[0.3333333333333333,\"#9c179e\"],[0.4444444444444444,\"#bd3786\"],[0.5555555555555556,\"#d8576b\"],[0.6666666666666666,\"#ed7953\"],[0.7777777777777778,\"#fb9f3a\"],[0.8888888888888888,\"#fdca26\"],[1.0,\"#f0f921\"]]}],\"choropleth\":[{\"type\":\"choropleth\",\"colorbar\":{\"outlinewidth\":0,\"ticks\":\"\"}}],\"histogram2d\":[{\"type\":\"histogram2d\",\"colorbar\":{\"outlinewidth\":0,\"ticks\":\"\"},\"colorscale\":[[0.0,\"#0d0887\"],[0.1111111111111111,\"#46039f\"],[0.2222222222222222,\"#7201a8\"],[0.3333333333333333,\"#9c179e\"],[0.4444444444444444,\"#bd3786\"],[0.5555555555555556,\"#d8576b\"],[0.6666666666666666,\"#ed7953\"],[0.7777777777777778,\"#fb9f3a\"],[0.8888888888888888,\"#fdca26\"],[1.0,\"#f0f921\"]]}],\"heatmap\":[{\"type\":\"heatmap\",\"colorbar\":{\"outlinewidth\":0,\"ticks\":\"\"},\"colorscale\":[[0.0,\"#0d0887\"],[0.1111111111111111,\"#46039f\"],[0.2222222222222222,\"#7201a8\"],[0.3333333333333333,\"#9c179e\"],[0.4444444444444444,\"#bd3786\"],[0.5555555555555556,\"#d8576b\"],[0.6666666666666666,\"#ed7953\"],[0.7777777777777778,\"#fb9f3a\"],[0.8888888888888888,\"#fdca26\"],[1.0,\"#f0f921\"]]}],\"heatmapgl\":[{\"type\":\"heatmapgl\",\"colorbar\":{\"outlinewidth\":0,\"ticks\":\"\"},\"colorscale\":[[0.0,\"#0d0887\"],[0.1111111111111111,\"#46039f\"],[0.2222222222222222,\"#7201a8\"],[0.3333333333333333,\"#9c179e\"],[0.4444444444444444,\"#bd3786\"],[0.5555555555555556,\"#d8576b\"],[0.6666666666666666,\"#ed7953\"],[0.7777777777777778,\"#fb9f3a\"],[0.8888888888888888,\"#fdca26\"],[1.0,\"#f0f921\"]]}],\"contourcarpet\":[{\"type\":\"contourcarpet\",\"colorbar\":{\"outlinewidth\":0,\"ticks\":\"\"}}],\"contour\":[{\"type\":\"contour\",\"colorbar\":{\"outlinewidth\":0,\"ticks\":\"\"},\"colorscale\":[[0.0,\"#0d0887\"],[0.1111111111111111,\"#46039f\"],[0.2222222222222222,\"#7201a8\"],[0.3333333333333333,\"#9c179e\"],[0.4444444444444444,\"#bd3786\"],[0.5555555555555556,\"#d8576b\"],[0.6666666666666666,\"#ed7953\"],[0.7777777777777778,\"#fb9f3a\"],[0.8888888888888888,\"#fdca26\"],[1.0,\"#f0f921\"]]}],\"surface\":[{\"type\":\"surface\",\"colorbar\":{\"outlinewidth\":0,\"ticks\":\"\"},\"colorscale\":[[0.0,\"#0d0887\"],[0.1111111111111111,\"#46039f\"],[0.2222222222222222,\"#7201a8\"],[0.3333333333333333,\"#9c179e\"],[0.4444444444444444,\"#bd3786\"],[0.5555555555555556,\"#d8576b\"],[0.6666666666666666,\"#ed7953\"],[0.7777777777777778,\"#fb9f3a\"],[0.8888888888888888,\"#fdca26\"],[1.0,\"#f0f921\"]]}],\"mesh3d\":[{\"type\":\"mesh3d\",\"colorbar\":{\"outlinewidth\":0,\"ticks\":\"\"}}],\"scatter\":[{\"fillpattern\":{\"fillmode\":\"overlay\",\"size\":10,\"solidity\":0.2},\"type\":\"scatter\"}],\"parcoords\":[{\"type\":\"parcoords\",\"line\":{\"colorbar\":{\"outlinewidth\":0,\"ticks\":\"\"}}}],\"scatterpolargl\":[{\"type\":\"scatterpolargl\",\"marker\":{\"colorbar\":{\"outlinewidth\":0,\"ticks\":\"\"}}}],\"bar\":[{\"error_x\":{\"color\":\"#2a3f5f\"},\"error_y\":{\"color\":\"#2a3f5f\"},\"marker\":{\"line\":{\"color\":\"#E5ECF6\",\"width\":0.5},\"pattern\":{\"fillmode\":\"overlay\",\"size\":10,\"solidity\":0.2}},\"type\":\"bar\"}],\"scattergeo\":[{\"type\":\"scattergeo\",\"marker\":{\"colorbar\":{\"outlinewidth\":0,\"ticks\":\"\"}}}],\"scatterpolar\":[{\"type\":\"scatterpolar\",\"marker\":{\"colorbar\":{\"outlinewidth\":0,\"ticks\":\"\"}}}],\"histogram\":[{\"marker\":{\"pattern\":{\"fillmode\":\"overlay\",\"size\":10,\"solidity\":0.2}},\"type\":\"histogram\"}],\"scattergl\":[{\"type\":\"scattergl\",\"marker\":{\"colorbar\":{\"outlinewidth\":0,\"ticks\":\"\"}}}],\"scatter3d\":[{\"type\":\"scatter3d\",\"line\":{\"colorbar\":{\"outlinewidth\":0,\"ticks\":\"\"}},\"marker\":{\"colorbar\":{\"outlinewidth\":0,\"ticks\":\"\"}}}],\"scattermapbox\":[{\"type\":\"scattermapbox\",\"marker\":{\"colorbar\":{\"outlinewidth\":0,\"ticks\":\"\"}}}],\"scatterternary\":[{\"type\":\"scatterternary\",\"marker\":{\"colorbar\":{\"outlinewidth\":0,\"ticks\":\"\"}}}],\"scattercarpet\":[{\"type\":\"scattercarpet\",\"marker\":{\"colorbar\":{\"outlinewidth\":0,\"ticks\":\"\"}}}],\"carpet\":[{\"aaxis\":{\"endlinecolor\":\"#2a3f5f\",\"gridcolor\":\"white\",\"linecolor\":\"white\",\"minorgridcolor\":\"white\",\"startlinecolor\":\"#2a3f5f\"},\"baxis\":{\"endlinecolor\":\"#2a3f5f\",\"gridcolor\":\"white\",\"linecolor\":\"white\",\"minorgridcolor\":\"white\",\"startlinecolor\":\"#2a3f5f\"},\"type\":\"carpet\"}],\"table\":[{\"cells\":{\"fill\":{\"color\":\"#EBF0F8\"},\"line\":{\"color\":\"white\"}},\"header\":{\"fill\":{\"color\":\"#C8D4E3\"},\"line\":{\"color\":\"white\"}},\"type\":\"table\"}],\"barpolar\":[{\"marker\":{\"line\":{\"color\":\"#E5ECF6\",\"width\":0.5},\"pattern\":{\"fillmode\":\"overlay\",\"size\":10,\"solidity\":0.2}},\"type\":\"barpolar\"}],\"pie\":[{\"automargin\":true,\"type\":\"pie\"}]},\"layout\":{\"autotypenumbers\":\"strict\",\"colorway\":[\"#636efa\",\"#EF553B\",\"#00cc96\",\"#ab63fa\",\"#FFA15A\",\"#19d3f3\",\"#FF6692\",\"#B6E880\",\"#FF97FF\",\"#FECB52\"],\"font\":{\"color\":\"#2a3f5f\"},\"hovermode\":\"closest\",\"hoverlabel\":{\"align\":\"left\"},\"paper_bgcolor\":\"white\",\"plot_bgcolor\":\"#E5ECF6\",\"polar\":{\"bgcolor\":\"#E5ECF6\",\"angularaxis\":{\"gridcolor\":\"white\",\"linecolor\":\"white\",\"ticks\":\"\"},\"radialaxis\":{\"gridcolor\":\"white\",\"linecolor\":\"white\",\"ticks\":\"\"}},\"ternary\":{\"bgcolor\":\"#E5ECF6\",\"aaxis\":{\"gridcolor\":\"white\",\"linecolor\":\"white\",\"ticks\":\"\"},\"baxis\":{\"gridcolor\":\"white\",\"linecolor\":\"white\",\"ticks\":\"\"},\"caxis\":{\"gridcolor\":\"white\",\"linecolor\":\"white\",\"ticks\":\"\"}},\"coloraxis\":{\"colorbar\":{\"outlinewidth\":0,\"ticks\":\"\"}},\"colorscale\":{\"sequential\":[[0.0,\"#0d0887\"],[0.1111111111111111,\"#46039f\"],[0.2222222222222222,\"#7201a8\"],[0.3333333333333333,\"#9c179e\"],[0.4444444444444444,\"#bd3786\"],[0.5555555555555556,\"#d8576b\"],[0.6666666666666666,\"#ed7953\"],[0.7777777777777778,\"#fb9f3a\"],[0.8888888888888888,\"#fdca26\"],[1.0,\"#f0f921\"]],\"sequentialminus\":[[0.0,\"#0d0887\"],[0.1111111111111111,\"#46039f\"],[0.2222222222222222,\"#7201a8\"],[0.3333333333333333,\"#9c179e\"],[0.4444444444444444,\"#bd3786\"],[0.5555555555555556,\"#d8576b\"],[0.6666666666666666,\"#ed7953\"],[0.7777777777777778,\"#fb9f3a\"],[0.8888888888888888,\"#fdca26\"],[1.0,\"#f0f921\"]],\"diverging\":[[0,\"#8e0152\"],[0.1,\"#c51b7d\"],[0.2,\"#de77ae\"],[0.3,\"#f1b6da\"],[0.4,\"#fde0ef\"],[0.5,\"#f7f7f7\"],[0.6,\"#e6f5d0\"],[0.7,\"#b8e186\"],[0.8,\"#7fbc41\"],[0.9,\"#4d9221\"],[1,\"#276419\"]]},\"xaxis\":{\"gridcolor\":\"white\",\"linecolor\":\"white\",\"ticks\":\"\",\"title\":{\"standoff\":15},\"zerolinecolor\":\"white\",\"automargin\":true,\"zerolinewidth\":2},\"yaxis\":{\"gridcolor\":\"white\",\"linecolor\":\"white\",\"ticks\":\"\",\"title\":{\"standoff\":15},\"zerolinecolor\":\"white\",\"automargin\":true,\"zerolinewidth\":2},\"scene\":{\"xaxis\":{\"backgroundcolor\":\"#E5ECF6\",\"gridcolor\":\"white\",\"linecolor\":\"white\",\"showbackground\":true,\"ticks\":\"\",\"zerolinecolor\":\"white\",\"gridwidth\":2},\"yaxis\":{\"backgroundcolor\":\"#E5ECF6\",\"gridcolor\":\"white\",\"linecolor\":\"white\",\"showbackground\":true,\"ticks\":\"\",\"zerolinecolor\":\"white\",\"gridwidth\":2},\"zaxis\":{\"backgroundcolor\":\"#E5ECF6\",\"gridcolor\":\"white\",\"linecolor\":\"white\",\"showbackground\":true,\"ticks\":\"\",\"zerolinecolor\":\"white\",\"gridwidth\":2}},\"shapedefaults\":{\"line\":{\"color\":\"#2a3f5f\"}},\"annotationdefaults\":{\"arrowcolor\":\"#2a3f5f\",\"arrowhead\":0,\"arrowwidth\":1},\"geo\":{\"bgcolor\":\"white\",\"landcolor\":\"#E5ECF6\",\"subunitcolor\":\"white\",\"showland\":true,\"showlakes\":true,\"lakecolor\":\"white\"},\"title\":{\"x\":0.05},\"mapbox\":{\"style\":\"light\"}}},\"legend\":{\"title\":{\"text\":\"Mouse ID\"},\"yanchor\":\"top\",\"y\":1,\"xanchor\":\"left\",\"x\":1},\"title\":{\"text\":\"Male Mouse Activity by Hour\"},\"xaxis\":{\"title\":{\"text\":\"Hour\"}},\"yaxis\":{\"title\":{\"text\":\"Activity\"}}},                        {\"responsive\": true}                    ).then(function(){\n",
       "                            \n",
       "var gd = document.getElementById('de23364a-74b4-47db-a6fe-584605fb101d');\n",
       "var x = new MutationObserver(function (mutations, observer) {{\n",
       "        var display = window.getComputedStyle(gd).display;\n",
       "        if (!display || display === 'none') {{\n",
       "            console.log([gd, 'removed!']);\n",
       "            Plotly.purge(gd);\n",
       "            observer.disconnect();\n",
       "        }}\n",
       "}});\n",
       "\n",
       "// Listen for the removal of the full notebook cells\n",
       "var notebookContainer = gd.closest('#notebook-container');\n",
       "if (notebookContainer) {{\n",
       "    x.observe(notebookContainer, {childList: true});\n",
       "}}\n",
       "\n",
       "// Listen for the clearing of the current output cell\n",
       "var outputEl = gd.closest('.output');\n",
       "if (outputEl) {{\n",
       "    x.observe(outputEl, {childList: true});\n",
       "}}\n",
       "\n",
       "                        })                };                });            </script>        </div>"
      ]
     },
     "metadata": {},
     "output_type": "display_data"
    }
   ],
   "source": [
    "fig = go.Figure()\n",
    "\n",
    "# Add each mouse's data as a separate line\n",
    "for column in male_hourly.iloc[:,1:-1].columns:\n",
    "    fig.add_trace(go.Scatter(x=male_hourly.index, \n",
    "                            y=male_hourly[column],\n",
    "                            name=column))\n",
    "\n",
    "# Update layout\n",
    "fig.update_layout(\n",
    "    title='Male Mouse Activity by Hour',\n",
    "    xaxis_title='Hour',\n",
    "    yaxis_title='Activity',\n",
    "    legend_title='Mouse ID',\n",
    "    legend=dict(\n",
    "        yanchor=\"top\",\n",
    "        y=1,\n",
    "        xanchor=\"left\",\n",
    "        x=1\n",
    "    )\n",
    ")\n",
    "\n",
    "fig.show()"
   ]
  },
  {
   "cell_type": "code",
   "execution_count": 54,
   "metadata": {},
   "outputs": [
    {
     "data": {
      "application/vnd.plotly.v1+json": {
       "config": {
        "plotlyServerURL": "https://plot.ly"
       },
       "data": [
        {
         "name": "f1",
         "type": "scatter",
         "x": [
          0,
          1,
          2,
          3,
          4,
          5,
          6,
          7,
          8,
          9,
          10,
          11,
          12,
          13,
          14,
          15,
          16,
          17,
          18,
          19,
          20,
          21,
          22,
          23
         ],
         "y": [
          33.64816477545536,
          31.81597154109524,
          27.791666666666664,
          24.960714285714285,
          25.59622879647619,
          23.35952380952381,
          27.09404761904762,
          30.394542969666666,
          23.091666666666665,
          13.329066779190475,
          13.686904761904762,
          12.329066779190475,
          7.934523809523809,
          14.795238095238094,
          12.73452380952381,
          4.542857142857143,
          5.896428571428571,
          5.809523809523809,
          5.728571428571429,
          5.014285714285714,
          8.75,
          6.761904761904762,
          7.347619047619048,
          14.99642857142857
         ]
        },
        {
         "name": "f2",
         "type": "scatter",
         "x": [
          0,
          1,
          2,
          3,
          4,
          5,
          6,
          7,
          8,
          9,
          10,
          11,
          12,
          13,
          14,
          15,
          16,
          17,
          18,
          19,
          20,
          21,
          22,
          23
         ],
         "y": [
          46.81852639507345,
          43.35321337238095,
          49.086546705714284,
          59.50061310047619,
          54.02198351809523,
          50.22884890190476,
          45.30398763857143,
          31.106229854285715,
          20.769186355714286,
          30.251606686190478,
          13.001329212857144,
          16.60238095238095,
          7.663095238095238,
          9.757142857142856,
          17.696428571428573,
          9.877380952380951,
          17.114285714285714,
          11.86099175904762,
          17.926190476190477,
          21.117857142857144,
          14.41904761904762,
          17.364285714285717,
          10.433333333333334,
          26.55545558809524
         ]
        },
        {
         "name": "f3",
         "type": "scatter",
         "x": [
          0,
          1,
          2,
          3,
          4,
          5,
          6,
          7,
          8,
          9,
          10,
          11,
          12,
          13,
          14,
          15,
          16,
          17,
          18,
          19,
          20,
          21,
          22,
          23
         ],
         "y": [
          22.39093276514652,
          21.47100070104762,
          31.453162001714283,
          27.910174836857145,
          24.879873483238097,
          23.164936741619048,
          18.511904761904763,
          19.40379458552381,
          18.743619748666667,
          17.39946055114286,
          5.528571428571429,
          7.308333333333333,
          7.803683007047619,
          11.633333333333335,
          14.143954484095238,
          15.115159898571429,
          12.702380952380953,
          7.648809523809524,
          11.84058776895238,
          14.192540850952382,
          9.776302054666667,
          10.326953082,
          9.363095238095239,
          8.79827007495238
         ]
        },
        {
         "name": "f4",
         "type": "scatter",
         "x": [
          0,
          1,
          2,
          3,
          4,
          5,
          6,
          7,
          8,
          9,
          10,
          11,
          12,
          13,
          14,
          15,
          16,
          17,
          18,
          19,
          20,
          21,
          22,
          23
         ],
         "y": [
          30.928981019546892,
          46.61928757340477,
          47.371668525785715,
          44.545398064809525,
          44.348889508595235,
          42.160714285714285,
          41.62746093716667,
          24.36674665145238,
          16.751190476190477,
          13.87857142857143,
          13.120238095238095,
          11.852460937166667,
          13.144127603833331,
          15.594047619047618,
          7.006032365738095,
          5.832222841928571,
          7.814285714285715,
          14.681032365738094,
          12.837224701047619,
          7.035714285714286,
          6.469047619047619,
          9.989285714285714,
          10.477380952380953,
          13.977460937166667
         ]
        },
        {
         "name": "f5",
         "type": "scatter",
         "x": [
          0,
          1,
          2,
          3,
          4,
          5,
          6,
          7,
          8,
          9,
          10,
          11,
          12,
          13,
          14,
          15,
          16,
          17,
          18,
          19,
          20,
          21,
          22,
          23
         ],
         "y": [
          26.08376894188324,
          46.87706868309523,
          54.55100504107143,
          49.63302106404762,
          41.42556593761905,
          35.27587820690476,
          43.80175641380952,
          44.53089378,
          46.00902610511905,
          46.135528850595236,
          36.19611630214286,
          20.71754487357143,
          13.365558858321426,
          15.438095238095238,
          13.671116302142858,
          10.148809523809524,
          7.45952380952381,
          8.466666666666667,
          6.975439103452381,
          9.907142857142857,
          8.526190476190475,
          6.214285714285714,
          17.39761904761905,
          11.329761904761906
         ]
        },
        {
         "name": "f6",
         "type": "scatter",
         "x": [
          0,
          1,
          2,
          3,
          4,
          5,
          6,
          7,
          8,
          9,
          10,
          11,
          12,
          13,
          14,
          15,
          16,
          17,
          18,
          19,
          20,
          21,
          22,
          23
         ],
         "y": [
          27.70220338983051,
          59.46882733380953,
          50.79097612761905,
          46.15573209571429,
          52.17788088952381,
          52.920047493333335,
          53.26174384333333,
          52.52694038190476,
          43.47333927,
          28.342166603809524,
          31.545238095238094,
          20.247619047619047,
          18.106672603333333,
          6.778571428571429,
          7.921428571428572,
          5.472619047619048,
          6.584022942833333,
          8.475,
          11.45952380952381,
          10.719047619047618,
          12.58452380952381,
          11.98095238095238,
          10.090476190476192,
          13.941666666666666
         ]
        },
        {
         "name": "f7",
         "type": "scatter",
         "x": [
          0,
          1,
          2,
          3,
          4,
          5,
          6,
          7,
          8,
          9,
          10,
          11,
          12,
          13,
          14,
          15,
          16,
          17,
          18,
          19,
          20,
          21,
          22,
          23
         ],
         "y": [
          25.255750234570996,
          43.60952380952381,
          38.373580886357146,
          35.339285714285715,
          34.19880952380952,
          37.384295172071425,
          35.56524755302381,
          28.890018915571428,
          27.175961838738093,
          20.50787605842857,
          15.527380952380952,
          17.672390410166667,
          9.056534972619048,
          8.071428571428571,
          10.803342791119048,
          4.106914219690476,
          4.629761904761905,
          7.461904761904762,
          6.866438029214286,
          6.1921712305000005,
          4.720009457785714,
          6.298580886357143,
          9.162637963190477,
          9.066666666666666
         ]
        },
        {
         "name": "f8",
         "type": "scatter",
         "x": [
          0,
          1,
          2,
          3,
          4,
          5,
          6,
          7,
          8,
          9,
          10,
          11,
          12,
          13,
          14,
          15,
          16,
          17,
          18,
          19,
          20,
          21,
          22,
          23
         ],
         "y": [
          22.51386064030132,
          59.476294624404765,
          57.7952380952381,
          57.03809523809524,
          54.41309523809524,
          53.31428571428571,
          53.24177081488095,
          53.292857142857144,
          53.477380952380955,
          37.70367557678571,
          30.64166666666667,
          12.082142857142857,
          6.447619047619048,
          6.4678571428571425,
          9.36547619047619,
          9.808333333333334,
          7.391666666666667,
          9.713095238095237,
          11.396428571428572,
          11.877380952380951,
          6.3619047619047615,
          11.614285714285714,
          9.888095238095238,
          15.801190476190476
         ]
        },
        {
         "name": "f9",
         "type": "scatter",
         "x": [
          0,
          1,
          2,
          3,
          4,
          5,
          6,
          7,
          8,
          9,
          10,
          11,
          12,
          13,
          14,
          15,
          16,
          17,
          18,
          19,
          20,
          21,
          22,
          23
         ],
         "y": [
          43.64361581920904,
          69.22518048190476,
          65.96913786,
          62.07032833619048,
          57.40137095809524,
          39.4298070252381,
          41.366711787142854,
          38.684568930000005,
          23.726190476190478,
          24.470238095238095,
          21.789285714285715,
          13.296428571428573,
          11.81904761904762,
          22.78095238095238,
          13.260759406190475,
          12.970238095238097,
          2.2964285714285713,
          6.272619047619047,
          18.235714285714288,
          15.286904761904763,
          18.064330834761904,
          15.017902263333331,
          31.666666666666664,
          39.550000000000004
         ]
        },
        {
         "name": "f10",
         "type": "scatter",
         "x": [
          0,
          1,
          2,
          3,
          4,
          5,
          6,
          7,
          8,
          9,
          10,
          11,
          12,
          13,
          14,
          15,
          16,
          17,
          18,
          19,
          20,
          21,
          22,
          23
         ],
         "y": [
          32.4394994527307,
          46.86428252380953,
          46.70178092857143,
          34.460711095238096,
          29.558333333333334,
          27.989285714285717,
          36.509523809523806,
          38.76130792857143,
          36.12619047619047,
          26.06904761904762,
          19.083333333333336,
          12.174999999999999,
          4.961904761904762,
          6.785714285714286,
          7.792857142857143,
          12.920238095238094,
          7.088095238095238,
          9.252380952380951,
          13.010714285714286,
          13.772619047619047,
          7.66547619047619,
          17.25,
          11.039285714285715,
          23.335714285714285
         ]
        },
        {
         "name": "f11",
         "type": "scatter",
         "x": [
          0,
          1,
          2,
          3,
          4,
          5,
          6,
          7,
          8,
          9,
          10,
          11,
          12,
          13,
          14,
          15,
          16,
          17,
          18,
          19,
          20,
          21,
          22,
          23
         ],
         "y": [
          30.30756895279661,
          46.7750385672619,
          43.13579142023809,
          38.82857142857143,
          22.716666666666665,
          22.55595238095238,
          27.10952380952381,
          37.76190476190476,
          38.922619047619044,
          33.43218142440476,
          23.592857142857145,
          13.45952380952381,
          7.672619047619047,
          7.970238095238096,
          11.549999999999999,
          7.847619047619048,
          5.848809523809523,
          5.947619047619048,
          5.729761904761905,
          8.736904761904762,
          10.85,
          9.984562376785714,
          15.696428571428571,
          20.819086186309523
         ]
        },
        {
         "name": "f12",
         "type": "scatter",
         "x": [
          0,
          1,
          2,
          3,
          4,
          5,
          6,
          7,
          8,
          9,
          10,
          11,
          12,
          13,
          14,
          15,
          16,
          17,
          18,
          19,
          20,
          21,
          22,
          23
         ],
         "y": [
          24.479649693860644,
          37.35705608095238,
          36.21300846190476,
          33.66173120952381,
          22.878397876190473,
          30.20348465238095,
          34.91521586190476,
          33.77473967142857,
          33.67006454285714,
          34.95926348095238,
          41.06188037142857,
          35.622854985714284,
          8.141666666666667,
          15.832142857142857,
          10.396341795238095,
          8.207142857142857,
          8.889285714285714,
          3.2095238095238092,
          4.055952380952381,
          5.778571428571429,
          5.25,
          8.414285714285715,
          10.26904761904762,
          10.516666666666667
         ]
        },
        {
         "name": "f13",
         "type": "scatter",
         "x": [
          0,
          1,
          2,
          3,
          4,
          5,
          6,
          7,
          8,
          9,
          10,
          11,
          12,
          13,
          14,
          15,
          16,
          17,
          18,
          19,
          20,
          21,
          22,
          23
         ],
         "y": [
          26.509981167608284,
          35.25714285714286,
          34.003571428571426,
          32.07857142857143,
          27.88452380952381,
          28.609523809523807,
          36.800000000000004,
          34.404198081785715,
          32.63214285714286,
          18.37857142857143,
          15.354761904761904,
          8.425,
          6.8,
          5.265476190476191,
          12.836904761904762,
          9.053571428571429,
          6.854761904761905,
          3.275,
          8.809523809523808,
          4.626190476190476,
          14.62857142857143,
          12.32443617702381,
          17.64047619047619,
          17.52261904761905
         ]
        }
       ],
       "layout": {
        "legend": {
         "title": {
          "text": "Mouse ID"
         },
         "x": 1,
         "xanchor": "left",
         "y": 1,
         "yanchor": "top"
        },
        "template": {
         "data": {
          "bar": [
           {
            "error_x": {
             "color": "#2a3f5f"
            },
            "error_y": {
             "color": "#2a3f5f"
            },
            "marker": {
             "line": {
              "color": "#E5ECF6",
              "width": 0.5
             },
             "pattern": {
              "fillmode": "overlay",
              "size": 10,
              "solidity": 0.2
             }
            },
            "type": "bar"
           }
          ],
          "barpolar": [
           {
            "marker": {
             "line": {
              "color": "#E5ECF6",
              "width": 0.5
             },
             "pattern": {
              "fillmode": "overlay",
              "size": 10,
              "solidity": 0.2
             }
            },
            "type": "barpolar"
           }
          ],
          "carpet": [
           {
            "aaxis": {
             "endlinecolor": "#2a3f5f",
             "gridcolor": "white",
             "linecolor": "white",
             "minorgridcolor": "white",
             "startlinecolor": "#2a3f5f"
            },
            "baxis": {
             "endlinecolor": "#2a3f5f",
             "gridcolor": "white",
             "linecolor": "white",
             "minorgridcolor": "white",
             "startlinecolor": "#2a3f5f"
            },
            "type": "carpet"
           }
          ],
          "choropleth": [
           {
            "colorbar": {
             "outlinewidth": 0,
             "ticks": ""
            },
            "type": "choropleth"
           }
          ],
          "contour": [
           {
            "colorbar": {
             "outlinewidth": 0,
             "ticks": ""
            },
            "colorscale": [
             [
              0,
              "#0d0887"
             ],
             [
              0.1111111111111111,
              "#46039f"
             ],
             [
              0.2222222222222222,
              "#7201a8"
             ],
             [
              0.3333333333333333,
              "#9c179e"
             ],
             [
              0.4444444444444444,
              "#bd3786"
             ],
             [
              0.5555555555555556,
              "#d8576b"
             ],
             [
              0.6666666666666666,
              "#ed7953"
             ],
             [
              0.7777777777777778,
              "#fb9f3a"
             ],
             [
              0.8888888888888888,
              "#fdca26"
             ],
             [
              1,
              "#f0f921"
             ]
            ],
            "type": "contour"
           }
          ],
          "contourcarpet": [
           {
            "colorbar": {
             "outlinewidth": 0,
             "ticks": ""
            },
            "type": "contourcarpet"
           }
          ],
          "heatmap": [
           {
            "colorbar": {
             "outlinewidth": 0,
             "ticks": ""
            },
            "colorscale": [
             [
              0,
              "#0d0887"
             ],
             [
              0.1111111111111111,
              "#46039f"
             ],
             [
              0.2222222222222222,
              "#7201a8"
             ],
             [
              0.3333333333333333,
              "#9c179e"
             ],
             [
              0.4444444444444444,
              "#bd3786"
             ],
             [
              0.5555555555555556,
              "#d8576b"
             ],
             [
              0.6666666666666666,
              "#ed7953"
             ],
             [
              0.7777777777777778,
              "#fb9f3a"
             ],
             [
              0.8888888888888888,
              "#fdca26"
             ],
             [
              1,
              "#f0f921"
             ]
            ],
            "type": "heatmap"
           }
          ],
          "heatmapgl": [
           {
            "colorbar": {
             "outlinewidth": 0,
             "ticks": ""
            },
            "colorscale": [
             [
              0,
              "#0d0887"
             ],
             [
              0.1111111111111111,
              "#46039f"
             ],
             [
              0.2222222222222222,
              "#7201a8"
             ],
             [
              0.3333333333333333,
              "#9c179e"
             ],
             [
              0.4444444444444444,
              "#bd3786"
             ],
             [
              0.5555555555555556,
              "#d8576b"
             ],
             [
              0.6666666666666666,
              "#ed7953"
             ],
             [
              0.7777777777777778,
              "#fb9f3a"
             ],
             [
              0.8888888888888888,
              "#fdca26"
             ],
             [
              1,
              "#f0f921"
             ]
            ],
            "type": "heatmapgl"
           }
          ],
          "histogram": [
           {
            "marker": {
             "pattern": {
              "fillmode": "overlay",
              "size": 10,
              "solidity": 0.2
             }
            },
            "type": "histogram"
           }
          ],
          "histogram2d": [
           {
            "colorbar": {
             "outlinewidth": 0,
             "ticks": ""
            },
            "colorscale": [
             [
              0,
              "#0d0887"
             ],
             [
              0.1111111111111111,
              "#46039f"
             ],
             [
              0.2222222222222222,
              "#7201a8"
             ],
             [
              0.3333333333333333,
              "#9c179e"
             ],
             [
              0.4444444444444444,
              "#bd3786"
             ],
             [
              0.5555555555555556,
              "#d8576b"
             ],
             [
              0.6666666666666666,
              "#ed7953"
             ],
             [
              0.7777777777777778,
              "#fb9f3a"
             ],
             [
              0.8888888888888888,
              "#fdca26"
             ],
             [
              1,
              "#f0f921"
             ]
            ],
            "type": "histogram2d"
           }
          ],
          "histogram2dcontour": [
           {
            "colorbar": {
             "outlinewidth": 0,
             "ticks": ""
            },
            "colorscale": [
             [
              0,
              "#0d0887"
             ],
             [
              0.1111111111111111,
              "#46039f"
             ],
             [
              0.2222222222222222,
              "#7201a8"
             ],
             [
              0.3333333333333333,
              "#9c179e"
             ],
             [
              0.4444444444444444,
              "#bd3786"
             ],
             [
              0.5555555555555556,
              "#d8576b"
             ],
             [
              0.6666666666666666,
              "#ed7953"
             ],
             [
              0.7777777777777778,
              "#fb9f3a"
             ],
             [
              0.8888888888888888,
              "#fdca26"
             ],
             [
              1,
              "#f0f921"
             ]
            ],
            "type": "histogram2dcontour"
           }
          ],
          "mesh3d": [
           {
            "colorbar": {
             "outlinewidth": 0,
             "ticks": ""
            },
            "type": "mesh3d"
           }
          ],
          "parcoords": [
           {
            "line": {
             "colorbar": {
              "outlinewidth": 0,
              "ticks": ""
             }
            },
            "type": "parcoords"
           }
          ],
          "pie": [
           {
            "automargin": true,
            "type": "pie"
           }
          ],
          "scatter": [
           {
            "fillpattern": {
             "fillmode": "overlay",
             "size": 10,
             "solidity": 0.2
            },
            "type": "scatter"
           }
          ],
          "scatter3d": [
           {
            "line": {
             "colorbar": {
              "outlinewidth": 0,
              "ticks": ""
             }
            },
            "marker": {
             "colorbar": {
              "outlinewidth": 0,
              "ticks": ""
             }
            },
            "type": "scatter3d"
           }
          ],
          "scattercarpet": [
           {
            "marker": {
             "colorbar": {
              "outlinewidth": 0,
              "ticks": ""
             }
            },
            "type": "scattercarpet"
           }
          ],
          "scattergeo": [
           {
            "marker": {
             "colorbar": {
              "outlinewidth": 0,
              "ticks": ""
             }
            },
            "type": "scattergeo"
           }
          ],
          "scattergl": [
           {
            "marker": {
             "colorbar": {
              "outlinewidth": 0,
              "ticks": ""
             }
            },
            "type": "scattergl"
           }
          ],
          "scattermapbox": [
           {
            "marker": {
             "colorbar": {
              "outlinewidth": 0,
              "ticks": ""
             }
            },
            "type": "scattermapbox"
           }
          ],
          "scatterpolar": [
           {
            "marker": {
             "colorbar": {
              "outlinewidth": 0,
              "ticks": ""
             }
            },
            "type": "scatterpolar"
           }
          ],
          "scatterpolargl": [
           {
            "marker": {
             "colorbar": {
              "outlinewidth": 0,
              "ticks": ""
             }
            },
            "type": "scatterpolargl"
           }
          ],
          "scatterternary": [
           {
            "marker": {
             "colorbar": {
              "outlinewidth": 0,
              "ticks": ""
             }
            },
            "type": "scatterternary"
           }
          ],
          "surface": [
           {
            "colorbar": {
             "outlinewidth": 0,
             "ticks": ""
            },
            "colorscale": [
             [
              0,
              "#0d0887"
             ],
             [
              0.1111111111111111,
              "#46039f"
             ],
             [
              0.2222222222222222,
              "#7201a8"
             ],
             [
              0.3333333333333333,
              "#9c179e"
             ],
             [
              0.4444444444444444,
              "#bd3786"
             ],
             [
              0.5555555555555556,
              "#d8576b"
             ],
             [
              0.6666666666666666,
              "#ed7953"
             ],
             [
              0.7777777777777778,
              "#fb9f3a"
             ],
             [
              0.8888888888888888,
              "#fdca26"
             ],
             [
              1,
              "#f0f921"
             ]
            ],
            "type": "surface"
           }
          ],
          "table": [
           {
            "cells": {
             "fill": {
              "color": "#EBF0F8"
             },
             "line": {
              "color": "white"
             }
            },
            "header": {
             "fill": {
              "color": "#C8D4E3"
             },
             "line": {
              "color": "white"
             }
            },
            "type": "table"
           }
          ]
         },
         "layout": {
          "annotationdefaults": {
           "arrowcolor": "#2a3f5f",
           "arrowhead": 0,
           "arrowwidth": 1
          },
          "autotypenumbers": "strict",
          "coloraxis": {
           "colorbar": {
            "outlinewidth": 0,
            "ticks": ""
           }
          },
          "colorscale": {
           "diverging": [
            [
             0,
             "#8e0152"
            ],
            [
             0.1,
             "#c51b7d"
            ],
            [
             0.2,
             "#de77ae"
            ],
            [
             0.3,
             "#f1b6da"
            ],
            [
             0.4,
             "#fde0ef"
            ],
            [
             0.5,
             "#f7f7f7"
            ],
            [
             0.6,
             "#e6f5d0"
            ],
            [
             0.7,
             "#b8e186"
            ],
            [
             0.8,
             "#7fbc41"
            ],
            [
             0.9,
             "#4d9221"
            ],
            [
             1,
             "#276419"
            ]
           ],
           "sequential": [
            [
             0,
             "#0d0887"
            ],
            [
             0.1111111111111111,
             "#46039f"
            ],
            [
             0.2222222222222222,
             "#7201a8"
            ],
            [
             0.3333333333333333,
             "#9c179e"
            ],
            [
             0.4444444444444444,
             "#bd3786"
            ],
            [
             0.5555555555555556,
             "#d8576b"
            ],
            [
             0.6666666666666666,
             "#ed7953"
            ],
            [
             0.7777777777777778,
             "#fb9f3a"
            ],
            [
             0.8888888888888888,
             "#fdca26"
            ],
            [
             1,
             "#f0f921"
            ]
           ],
           "sequentialminus": [
            [
             0,
             "#0d0887"
            ],
            [
             0.1111111111111111,
             "#46039f"
            ],
            [
             0.2222222222222222,
             "#7201a8"
            ],
            [
             0.3333333333333333,
             "#9c179e"
            ],
            [
             0.4444444444444444,
             "#bd3786"
            ],
            [
             0.5555555555555556,
             "#d8576b"
            ],
            [
             0.6666666666666666,
             "#ed7953"
            ],
            [
             0.7777777777777778,
             "#fb9f3a"
            ],
            [
             0.8888888888888888,
             "#fdca26"
            ],
            [
             1,
             "#f0f921"
            ]
           ]
          },
          "colorway": [
           "#636efa",
           "#EF553B",
           "#00cc96",
           "#ab63fa",
           "#FFA15A",
           "#19d3f3",
           "#FF6692",
           "#B6E880",
           "#FF97FF",
           "#FECB52"
          ],
          "font": {
           "color": "#2a3f5f"
          },
          "geo": {
           "bgcolor": "white",
           "lakecolor": "white",
           "landcolor": "#E5ECF6",
           "showlakes": true,
           "showland": true,
           "subunitcolor": "white"
          },
          "hoverlabel": {
           "align": "left"
          },
          "hovermode": "closest",
          "mapbox": {
           "style": "light"
          },
          "paper_bgcolor": "white",
          "plot_bgcolor": "#E5ECF6",
          "polar": {
           "angularaxis": {
            "gridcolor": "white",
            "linecolor": "white",
            "ticks": ""
           },
           "bgcolor": "#E5ECF6",
           "radialaxis": {
            "gridcolor": "white",
            "linecolor": "white",
            "ticks": ""
           }
          },
          "scene": {
           "xaxis": {
            "backgroundcolor": "#E5ECF6",
            "gridcolor": "white",
            "gridwidth": 2,
            "linecolor": "white",
            "showbackground": true,
            "ticks": "",
            "zerolinecolor": "white"
           },
           "yaxis": {
            "backgroundcolor": "#E5ECF6",
            "gridcolor": "white",
            "gridwidth": 2,
            "linecolor": "white",
            "showbackground": true,
            "ticks": "",
            "zerolinecolor": "white"
           },
           "zaxis": {
            "backgroundcolor": "#E5ECF6",
            "gridcolor": "white",
            "gridwidth": 2,
            "linecolor": "white",
            "showbackground": true,
            "ticks": "",
            "zerolinecolor": "white"
           }
          },
          "shapedefaults": {
           "line": {
            "color": "#2a3f5f"
           }
          },
          "ternary": {
           "aaxis": {
            "gridcolor": "white",
            "linecolor": "white",
            "ticks": ""
           },
           "baxis": {
            "gridcolor": "white",
            "linecolor": "white",
            "ticks": ""
           },
           "bgcolor": "#E5ECF6",
           "caxis": {
            "gridcolor": "white",
            "linecolor": "white",
            "ticks": ""
           }
          },
          "title": {
           "x": 0.05
          },
          "xaxis": {
           "automargin": true,
           "gridcolor": "white",
           "linecolor": "white",
           "ticks": "",
           "title": {
            "standoff": 15
           },
           "zerolinecolor": "white",
           "zerolinewidth": 2
          },
          "yaxis": {
           "automargin": true,
           "gridcolor": "white",
           "linecolor": "white",
           "ticks": "",
           "title": {
            "standoff": 15
           },
           "zerolinecolor": "white",
           "zerolinewidth": 2
          }
         }
        },
        "title": {
         "text": "Female Mouse Activity by Hour"
        },
        "xaxis": {
         "title": {
          "text": "Hour"
         }
        },
        "yaxis": {
         "title": {
          "text": "Activity"
         }
        }
       }
      },
      "text/html": [
       "<div>                            <div id=\"92698c15-ae5a-4973-b325-0772c635bb97\" class=\"plotly-graph-div\" style=\"height:525px; width:100%;\"></div>            <script type=\"text/javascript\">                require([\"plotly\"], function(Plotly) {                    window.PLOTLYENV=window.PLOTLYENV || {};                                    if (document.getElementById(\"92698c15-ae5a-4973-b325-0772c635bb97\")) {                    Plotly.newPlot(                        \"92698c15-ae5a-4973-b325-0772c635bb97\",                        [{\"name\":\"f1\",\"x\":[0,1,2,3,4,5,6,7,8,9,10,11,12,13,14,15,16,17,18,19,20,21,22,23],\"y\":[33.64816477545536,31.81597154109524,27.791666666666664,24.960714285714285,25.59622879647619,23.35952380952381,27.09404761904762,30.394542969666666,23.091666666666665,13.329066779190475,13.686904761904762,12.329066779190475,7.934523809523809,14.795238095238094,12.73452380952381,4.542857142857143,5.896428571428571,5.809523809523809,5.728571428571429,5.014285714285714,8.75,6.761904761904762,7.347619047619048,14.99642857142857],\"type\":\"scatter\"},{\"name\":\"f2\",\"x\":[0,1,2,3,4,5,6,7,8,9,10,11,12,13,14,15,16,17,18,19,20,21,22,23],\"y\":[46.81852639507345,43.35321337238095,49.086546705714284,59.50061310047619,54.02198351809523,50.22884890190476,45.30398763857143,31.106229854285715,20.769186355714286,30.251606686190478,13.001329212857144,16.60238095238095,7.663095238095238,9.757142857142856,17.696428571428573,9.877380952380951,17.114285714285714,11.86099175904762,17.926190476190477,21.117857142857144,14.41904761904762,17.364285714285717,10.433333333333334,26.55545558809524],\"type\":\"scatter\"},{\"name\":\"f3\",\"x\":[0,1,2,3,4,5,6,7,8,9,10,11,12,13,14,15,16,17,18,19,20,21,22,23],\"y\":[22.39093276514652,21.47100070104762,31.453162001714283,27.910174836857145,24.879873483238097,23.164936741619048,18.511904761904763,19.40379458552381,18.743619748666667,17.39946055114286,5.528571428571429,7.308333333333333,7.803683007047619,11.633333333333335,14.143954484095238,15.115159898571429,12.702380952380953,7.648809523809524,11.84058776895238,14.192540850952382,9.776302054666667,10.326953082,9.363095238095239,8.79827007495238],\"type\":\"scatter\"},{\"name\":\"f4\",\"x\":[0,1,2,3,4,5,6,7,8,9,10,11,12,13,14,15,16,17,18,19,20,21,22,23],\"y\":[30.928981019546892,46.61928757340477,47.371668525785715,44.545398064809525,44.348889508595235,42.160714285714285,41.62746093716667,24.36674665145238,16.751190476190477,13.87857142857143,13.120238095238095,11.852460937166667,13.144127603833331,15.594047619047618,7.006032365738095,5.832222841928571,7.814285714285715,14.681032365738094,12.837224701047619,7.035714285714286,6.469047619047619,9.989285714285714,10.477380952380953,13.977460937166667],\"type\":\"scatter\"},{\"name\":\"f5\",\"x\":[0,1,2,3,4,5,6,7,8,9,10,11,12,13,14,15,16,17,18,19,20,21,22,23],\"y\":[26.08376894188324,46.87706868309523,54.55100504107143,49.63302106404762,41.42556593761905,35.27587820690476,43.80175641380952,44.53089378,46.00902610511905,46.135528850595236,36.19611630214286,20.71754487357143,13.365558858321426,15.438095238095238,13.671116302142858,10.148809523809524,7.45952380952381,8.466666666666667,6.975439103452381,9.907142857142857,8.526190476190475,6.214285714285714,17.39761904761905,11.329761904761906],\"type\":\"scatter\"},{\"name\":\"f6\",\"x\":[0,1,2,3,4,5,6,7,8,9,10,11,12,13,14,15,16,17,18,19,20,21,22,23],\"y\":[27.70220338983051,59.46882733380953,50.79097612761905,46.15573209571429,52.17788088952381,52.920047493333335,53.26174384333333,52.52694038190476,43.47333927,28.342166603809524,31.545238095238094,20.247619047619047,18.106672603333333,6.778571428571429,7.921428571428572,5.472619047619048,6.584022942833333,8.475,11.45952380952381,10.719047619047618,12.58452380952381,11.98095238095238,10.090476190476192,13.941666666666666],\"type\":\"scatter\"},{\"name\":\"f7\",\"x\":[0,1,2,3,4,5,6,7,8,9,10,11,12,13,14,15,16,17,18,19,20,21,22,23],\"y\":[25.255750234570996,43.60952380952381,38.373580886357146,35.339285714285715,34.19880952380952,37.384295172071425,35.56524755302381,28.890018915571428,27.175961838738093,20.50787605842857,15.527380952380952,17.672390410166667,9.056534972619048,8.071428571428571,10.803342791119048,4.106914219690476,4.629761904761905,7.461904761904762,6.866438029214286,6.1921712305000005,4.720009457785714,6.298580886357143,9.162637963190477,9.066666666666666],\"type\":\"scatter\"},{\"name\":\"f8\",\"x\":[0,1,2,3,4,5,6,7,8,9,10,11,12,13,14,15,16,17,18,19,20,21,22,23],\"y\":[22.51386064030132,59.476294624404765,57.7952380952381,57.03809523809524,54.41309523809524,53.31428571428571,53.24177081488095,53.292857142857144,53.477380952380955,37.70367557678571,30.64166666666667,12.082142857142857,6.447619047619048,6.4678571428571425,9.36547619047619,9.808333333333334,7.391666666666667,9.713095238095237,11.396428571428572,11.877380952380951,6.3619047619047615,11.614285714285714,9.888095238095238,15.801190476190476],\"type\":\"scatter\"},{\"name\":\"f9\",\"x\":[0,1,2,3,4,5,6,7,8,9,10,11,12,13,14,15,16,17,18,19,20,21,22,23],\"y\":[43.64361581920904,69.22518048190476,65.96913786,62.07032833619048,57.40137095809524,39.4298070252381,41.366711787142854,38.684568930000005,23.726190476190478,24.470238095238095,21.789285714285715,13.296428571428573,11.81904761904762,22.78095238095238,13.260759406190475,12.970238095238097,2.2964285714285713,6.272619047619047,18.235714285714288,15.286904761904763,18.064330834761904,15.017902263333331,31.666666666666664,39.550000000000004],\"type\":\"scatter\"},{\"name\":\"f10\",\"x\":[0,1,2,3,4,5,6,7,8,9,10,11,12,13,14,15,16,17,18,19,20,21,22,23],\"y\":[32.4394994527307,46.86428252380953,46.70178092857143,34.460711095238096,29.558333333333334,27.989285714285717,36.509523809523806,38.76130792857143,36.12619047619047,26.06904761904762,19.083333333333336,12.174999999999999,4.961904761904762,6.785714285714286,7.792857142857143,12.920238095238094,7.088095238095238,9.252380952380951,13.010714285714286,13.772619047619047,7.66547619047619,17.25,11.039285714285715,23.335714285714285],\"type\":\"scatter\"},{\"name\":\"f11\",\"x\":[0,1,2,3,4,5,6,7,8,9,10,11,12,13,14,15,16,17,18,19,20,21,22,23],\"y\":[30.30756895279661,46.7750385672619,43.13579142023809,38.82857142857143,22.716666666666665,22.55595238095238,27.10952380952381,37.76190476190476,38.922619047619044,33.43218142440476,23.592857142857145,13.45952380952381,7.672619047619047,7.970238095238096,11.549999999999999,7.847619047619048,5.848809523809523,5.947619047619048,5.729761904761905,8.736904761904762,10.85,9.984562376785714,15.696428571428571,20.819086186309523],\"type\":\"scatter\"},{\"name\":\"f12\",\"x\":[0,1,2,3,4,5,6,7,8,9,10,11,12,13,14,15,16,17,18,19,20,21,22,23],\"y\":[24.479649693860644,37.35705608095238,36.21300846190476,33.66173120952381,22.878397876190473,30.20348465238095,34.91521586190476,33.77473967142857,33.67006454285714,34.95926348095238,41.06188037142857,35.622854985714284,8.141666666666667,15.832142857142857,10.396341795238095,8.207142857142857,8.889285714285714,3.2095238095238092,4.055952380952381,5.778571428571429,5.25,8.414285714285715,10.26904761904762,10.516666666666667],\"type\":\"scatter\"},{\"name\":\"f13\",\"x\":[0,1,2,3,4,5,6,7,8,9,10,11,12,13,14,15,16,17,18,19,20,21,22,23],\"y\":[26.509981167608284,35.25714285714286,34.003571428571426,32.07857142857143,27.88452380952381,28.609523809523807,36.800000000000004,34.404198081785715,32.63214285714286,18.37857142857143,15.354761904761904,8.425,6.8,5.265476190476191,12.836904761904762,9.053571428571429,6.854761904761905,3.275,8.809523809523808,4.626190476190476,14.62857142857143,12.32443617702381,17.64047619047619,17.52261904761905],\"type\":\"scatter\"}],                        {\"template\":{\"data\":{\"histogram2dcontour\":[{\"type\":\"histogram2dcontour\",\"colorbar\":{\"outlinewidth\":0,\"ticks\":\"\"},\"colorscale\":[[0.0,\"#0d0887\"],[0.1111111111111111,\"#46039f\"],[0.2222222222222222,\"#7201a8\"],[0.3333333333333333,\"#9c179e\"],[0.4444444444444444,\"#bd3786\"],[0.5555555555555556,\"#d8576b\"],[0.6666666666666666,\"#ed7953\"],[0.7777777777777778,\"#fb9f3a\"],[0.8888888888888888,\"#fdca26\"],[1.0,\"#f0f921\"]]}],\"choropleth\":[{\"type\":\"choropleth\",\"colorbar\":{\"outlinewidth\":0,\"ticks\":\"\"}}],\"histogram2d\":[{\"type\":\"histogram2d\",\"colorbar\":{\"outlinewidth\":0,\"ticks\":\"\"},\"colorscale\":[[0.0,\"#0d0887\"],[0.1111111111111111,\"#46039f\"],[0.2222222222222222,\"#7201a8\"],[0.3333333333333333,\"#9c179e\"],[0.4444444444444444,\"#bd3786\"],[0.5555555555555556,\"#d8576b\"],[0.6666666666666666,\"#ed7953\"],[0.7777777777777778,\"#fb9f3a\"],[0.8888888888888888,\"#fdca26\"],[1.0,\"#f0f921\"]]}],\"heatmap\":[{\"type\":\"heatmap\",\"colorbar\":{\"outlinewidth\":0,\"ticks\":\"\"},\"colorscale\":[[0.0,\"#0d0887\"],[0.1111111111111111,\"#46039f\"],[0.2222222222222222,\"#7201a8\"],[0.3333333333333333,\"#9c179e\"],[0.4444444444444444,\"#bd3786\"],[0.5555555555555556,\"#d8576b\"],[0.6666666666666666,\"#ed7953\"],[0.7777777777777778,\"#fb9f3a\"],[0.8888888888888888,\"#fdca26\"],[1.0,\"#f0f921\"]]}],\"heatmapgl\":[{\"type\":\"heatmapgl\",\"colorbar\":{\"outlinewidth\":0,\"ticks\":\"\"},\"colorscale\":[[0.0,\"#0d0887\"],[0.1111111111111111,\"#46039f\"],[0.2222222222222222,\"#7201a8\"],[0.3333333333333333,\"#9c179e\"],[0.4444444444444444,\"#bd3786\"],[0.5555555555555556,\"#d8576b\"],[0.6666666666666666,\"#ed7953\"],[0.7777777777777778,\"#fb9f3a\"],[0.8888888888888888,\"#fdca26\"],[1.0,\"#f0f921\"]]}],\"contourcarpet\":[{\"type\":\"contourcarpet\",\"colorbar\":{\"outlinewidth\":0,\"ticks\":\"\"}}],\"contour\":[{\"type\":\"contour\",\"colorbar\":{\"outlinewidth\":0,\"ticks\":\"\"},\"colorscale\":[[0.0,\"#0d0887\"],[0.1111111111111111,\"#46039f\"],[0.2222222222222222,\"#7201a8\"],[0.3333333333333333,\"#9c179e\"],[0.4444444444444444,\"#bd3786\"],[0.5555555555555556,\"#d8576b\"],[0.6666666666666666,\"#ed7953\"],[0.7777777777777778,\"#fb9f3a\"],[0.8888888888888888,\"#fdca26\"],[1.0,\"#f0f921\"]]}],\"surface\":[{\"type\":\"surface\",\"colorbar\":{\"outlinewidth\":0,\"ticks\":\"\"},\"colorscale\":[[0.0,\"#0d0887\"],[0.1111111111111111,\"#46039f\"],[0.2222222222222222,\"#7201a8\"],[0.3333333333333333,\"#9c179e\"],[0.4444444444444444,\"#bd3786\"],[0.5555555555555556,\"#d8576b\"],[0.6666666666666666,\"#ed7953\"],[0.7777777777777778,\"#fb9f3a\"],[0.8888888888888888,\"#fdca26\"],[1.0,\"#f0f921\"]]}],\"mesh3d\":[{\"type\":\"mesh3d\",\"colorbar\":{\"outlinewidth\":0,\"ticks\":\"\"}}],\"scatter\":[{\"fillpattern\":{\"fillmode\":\"overlay\",\"size\":10,\"solidity\":0.2},\"type\":\"scatter\"}],\"parcoords\":[{\"type\":\"parcoords\",\"line\":{\"colorbar\":{\"outlinewidth\":0,\"ticks\":\"\"}}}],\"scatterpolargl\":[{\"type\":\"scatterpolargl\",\"marker\":{\"colorbar\":{\"outlinewidth\":0,\"ticks\":\"\"}}}],\"bar\":[{\"error_x\":{\"color\":\"#2a3f5f\"},\"error_y\":{\"color\":\"#2a3f5f\"},\"marker\":{\"line\":{\"color\":\"#E5ECF6\",\"width\":0.5},\"pattern\":{\"fillmode\":\"overlay\",\"size\":10,\"solidity\":0.2}},\"type\":\"bar\"}],\"scattergeo\":[{\"type\":\"scattergeo\",\"marker\":{\"colorbar\":{\"outlinewidth\":0,\"ticks\":\"\"}}}],\"scatterpolar\":[{\"type\":\"scatterpolar\",\"marker\":{\"colorbar\":{\"outlinewidth\":0,\"ticks\":\"\"}}}],\"histogram\":[{\"marker\":{\"pattern\":{\"fillmode\":\"overlay\",\"size\":10,\"solidity\":0.2}},\"type\":\"histogram\"}],\"scattergl\":[{\"type\":\"scattergl\",\"marker\":{\"colorbar\":{\"outlinewidth\":0,\"ticks\":\"\"}}}],\"scatter3d\":[{\"type\":\"scatter3d\",\"line\":{\"colorbar\":{\"outlinewidth\":0,\"ticks\":\"\"}},\"marker\":{\"colorbar\":{\"outlinewidth\":0,\"ticks\":\"\"}}}],\"scattermapbox\":[{\"type\":\"scattermapbox\",\"marker\":{\"colorbar\":{\"outlinewidth\":0,\"ticks\":\"\"}}}],\"scatterternary\":[{\"type\":\"scatterternary\",\"marker\":{\"colorbar\":{\"outlinewidth\":0,\"ticks\":\"\"}}}],\"scattercarpet\":[{\"type\":\"scattercarpet\",\"marker\":{\"colorbar\":{\"outlinewidth\":0,\"ticks\":\"\"}}}],\"carpet\":[{\"aaxis\":{\"endlinecolor\":\"#2a3f5f\",\"gridcolor\":\"white\",\"linecolor\":\"white\",\"minorgridcolor\":\"white\",\"startlinecolor\":\"#2a3f5f\"},\"baxis\":{\"endlinecolor\":\"#2a3f5f\",\"gridcolor\":\"white\",\"linecolor\":\"white\",\"minorgridcolor\":\"white\",\"startlinecolor\":\"#2a3f5f\"},\"type\":\"carpet\"}],\"table\":[{\"cells\":{\"fill\":{\"color\":\"#EBF0F8\"},\"line\":{\"color\":\"white\"}},\"header\":{\"fill\":{\"color\":\"#C8D4E3\"},\"line\":{\"color\":\"white\"}},\"type\":\"table\"}],\"barpolar\":[{\"marker\":{\"line\":{\"color\":\"#E5ECF6\",\"width\":0.5},\"pattern\":{\"fillmode\":\"overlay\",\"size\":10,\"solidity\":0.2}},\"type\":\"barpolar\"}],\"pie\":[{\"automargin\":true,\"type\":\"pie\"}]},\"layout\":{\"autotypenumbers\":\"strict\",\"colorway\":[\"#636efa\",\"#EF553B\",\"#00cc96\",\"#ab63fa\",\"#FFA15A\",\"#19d3f3\",\"#FF6692\",\"#B6E880\",\"#FF97FF\",\"#FECB52\"],\"font\":{\"color\":\"#2a3f5f\"},\"hovermode\":\"closest\",\"hoverlabel\":{\"align\":\"left\"},\"paper_bgcolor\":\"white\",\"plot_bgcolor\":\"#E5ECF6\",\"polar\":{\"bgcolor\":\"#E5ECF6\",\"angularaxis\":{\"gridcolor\":\"white\",\"linecolor\":\"white\",\"ticks\":\"\"},\"radialaxis\":{\"gridcolor\":\"white\",\"linecolor\":\"white\",\"ticks\":\"\"}},\"ternary\":{\"bgcolor\":\"#E5ECF6\",\"aaxis\":{\"gridcolor\":\"white\",\"linecolor\":\"white\",\"ticks\":\"\"},\"baxis\":{\"gridcolor\":\"white\",\"linecolor\":\"white\",\"ticks\":\"\"},\"caxis\":{\"gridcolor\":\"white\",\"linecolor\":\"white\",\"ticks\":\"\"}},\"coloraxis\":{\"colorbar\":{\"outlinewidth\":0,\"ticks\":\"\"}},\"colorscale\":{\"sequential\":[[0.0,\"#0d0887\"],[0.1111111111111111,\"#46039f\"],[0.2222222222222222,\"#7201a8\"],[0.3333333333333333,\"#9c179e\"],[0.4444444444444444,\"#bd3786\"],[0.5555555555555556,\"#d8576b\"],[0.6666666666666666,\"#ed7953\"],[0.7777777777777778,\"#fb9f3a\"],[0.8888888888888888,\"#fdca26\"],[1.0,\"#f0f921\"]],\"sequentialminus\":[[0.0,\"#0d0887\"],[0.1111111111111111,\"#46039f\"],[0.2222222222222222,\"#7201a8\"],[0.3333333333333333,\"#9c179e\"],[0.4444444444444444,\"#bd3786\"],[0.5555555555555556,\"#d8576b\"],[0.6666666666666666,\"#ed7953\"],[0.7777777777777778,\"#fb9f3a\"],[0.8888888888888888,\"#fdca26\"],[1.0,\"#f0f921\"]],\"diverging\":[[0,\"#8e0152\"],[0.1,\"#c51b7d\"],[0.2,\"#de77ae\"],[0.3,\"#f1b6da\"],[0.4,\"#fde0ef\"],[0.5,\"#f7f7f7\"],[0.6,\"#e6f5d0\"],[0.7,\"#b8e186\"],[0.8,\"#7fbc41\"],[0.9,\"#4d9221\"],[1,\"#276419\"]]},\"xaxis\":{\"gridcolor\":\"white\",\"linecolor\":\"white\",\"ticks\":\"\",\"title\":{\"standoff\":15},\"zerolinecolor\":\"white\",\"automargin\":true,\"zerolinewidth\":2},\"yaxis\":{\"gridcolor\":\"white\",\"linecolor\":\"white\",\"ticks\":\"\",\"title\":{\"standoff\":15},\"zerolinecolor\":\"white\",\"automargin\":true,\"zerolinewidth\":2},\"scene\":{\"xaxis\":{\"backgroundcolor\":\"#E5ECF6\",\"gridcolor\":\"white\",\"linecolor\":\"white\",\"showbackground\":true,\"ticks\":\"\",\"zerolinecolor\":\"white\",\"gridwidth\":2},\"yaxis\":{\"backgroundcolor\":\"#E5ECF6\",\"gridcolor\":\"white\",\"linecolor\":\"white\",\"showbackground\":true,\"ticks\":\"\",\"zerolinecolor\":\"white\",\"gridwidth\":2},\"zaxis\":{\"backgroundcolor\":\"#E5ECF6\",\"gridcolor\":\"white\",\"linecolor\":\"white\",\"showbackground\":true,\"ticks\":\"\",\"zerolinecolor\":\"white\",\"gridwidth\":2}},\"shapedefaults\":{\"line\":{\"color\":\"#2a3f5f\"}},\"annotationdefaults\":{\"arrowcolor\":\"#2a3f5f\",\"arrowhead\":0,\"arrowwidth\":1},\"geo\":{\"bgcolor\":\"white\",\"landcolor\":\"#E5ECF6\",\"subunitcolor\":\"white\",\"showland\":true,\"showlakes\":true,\"lakecolor\":\"white\"},\"title\":{\"x\":0.05},\"mapbox\":{\"style\":\"light\"}}},\"legend\":{\"title\":{\"text\":\"Mouse ID\"},\"yanchor\":\"top\",\"y\":1,\"xanchor\":\"left\",\"x\":1},\"title\":{\"text\":\"Female Mouse Activity by Hour\"},\"xaxis\":{\"title\":{\"text\":\"Hour\"}},\"yaxis\":{\"title\":{\"text\":\"Activity\"}}},                        {\"responsive\": true}                    ).then(function(){\n",
       "                            \n",
       "var gd = document.getElementById('92698c15-ae5a-4973-b325-0772c635bb97');\n",
       "var x = new MutationObserver(function (mutations, observer) {{\n",
       "        var display = window.getComputedStyle(gd).display;\n",
       "        if (!display || display === 'none') {{\n",
       "            console.log([gd, 'removed!']);\n",
       "            Plotly.purge(gd);\n",
       "            observer.disconnect();\n",
       "        }}\n",
       "}});\n",
       "\n",
       "// Listen for the removal of the full notebook cells\n",
       "var notebookContainer = gd.closest('#notebook-container');\n",
       "if (notebookContainer) {{\n",
       "    x.observe(notebookContainer, {childList: true});\n",
       "}}\n",
       "\n",
       "// Listen for the clearing of the current output cell\n",
       "var outputEl = gd.closest('.output');\n",
       "if (outputEl) {{\n",
       "    x.observe(outputEl, {childList: true});\n",
       "}}\n",
       "\n",
       "                        })                };                });            </script>        </div>"
      ]
     },
     "metadata": {},
     "output_type": "display_data"
    }
   ],
   "source": [
    "fig = go.Figure()\n",
    "\n",
    "# Add each mouse's data as a separate line\n",
    "for column in female_hourly.iloc[:,1:-1].columns:\n",
    "    fig.add_trace(go.Scatter(x=female_hourly.index, \n",
    "                            y=female_hourly[column],\n",
    "                            name=column))\n",
    "\n",
    "# Update layout\n",
    "fig.update_layout(\n",
    "    title='Female Mouse Activity by Hour',\n",
    "    xaxis_title='Hour',\n",
    "    yaxis_title='Activity',\n",
    "    legend_title='Mouse ID',\n",
    "    legend=dict(\n",
    "        yanchor=\"top\",\n",
    "        y=1,\n",
    "        xanchor=\"left\",\n",
    "        x=1\n",
    "    )\n",
    ")\n",
    "\n",
    "fig.show()"
   ]
  },
  {
   "cell_type": "code",
   "execution_count": null,
   "metadata": {},
   "outputs": [],
   "source": []
  }
 ],
 "metadata": {
  "kernelspec": {
   "display_name": "dsc",
   "language": "python",
   "name": "python3"
  },
  "language_info": {
   "codemirror_mode": {
    "name": "ipython",
    "version": 3
   },
   "file_extension": ".py",
   "mimetype": "text/x-python",
   "name": "python",
   "nbconvert_exporter": "python",
   "pygments_lexer": "ipython3",
   "version": "3.12.8"
  }
 },
 "nbformat": 4,
 "nbformat_minor": 2
}
